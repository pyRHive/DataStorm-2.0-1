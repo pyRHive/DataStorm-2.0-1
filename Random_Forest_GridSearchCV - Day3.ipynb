{
  "nbformat": 4,
  "nbformat_minor": 0,
  "metadata": {
    "accelerator": "TPU",
    "colab": {
      "name": "Random_Forest_GridSearchCV.ipynb",
      "provenance": [],
      "toc_visible": true,
      "include_colab_link": true
    },
    "kernelspec": {
      "display_name": "Python 3",
      "language": "python",
      "name": "python3"
    },
    "language_info": {
      "codemirror_mode": {
        "name": "ipython",
        "version": 3
      },
      "file_extension": ".py",
      "mimetype": "text/x-python",
      "name": "python",
      "nbconvert_exporter": "python",
      "pygments_lexer": "ipython3",
      "version": "3.8.5"
    }
  },
  "cells": [
    {
      "cell_type": "markdown",
      "metadata": {
        "id": "view-in-github",
        "colab_type": "text"
      },
      "source": [
        "<a href=\"https://colab.research.google.com/github/JINENDRI/DataStorm-2.0/blob/main/Random_Forest_GridSearchCV%20-%20Day3.ipynb\" target=\"_parent\"><img src=\"https://colab.research.google.com/assets/colab-badge.svg\" alt=\"Open In Colab\"/></a>"
      ]
    },
    {
      "cell_type": "code",
      "metadata": {
        "colab": {
          "base_uri": "https://localhost:8080/"
        },
        "id": "9czFSl4vjRph",
        "outputId": "5a07c14b-7883-4d89-d461-44d80f90d72d"
      },
      "source": [
        "from google.colab import drive\n",
        "drive.mount('/content/drive')"
      ],
      "execution_count": null,
      "outputs": [
        {
          "output_type": "stream",
          "text": [
            "Mounted at /content/drive\n"
          ],
          "name": "stdout"
        }
      ]
    },
    {
      "cell_type": "markdown",
      "metadata": {
        "id": "O3-ttbh_i6lc"
      },
      "source": [
        "#### Loading Required libraries"
      ]
    },
    {
      "cell_type": "code",
      "metadata": {
        "id": "jkcxoIRai6mf"
      },
      "source": [
        "import pandas as pd\n",
        "import numpy as np\n",
        "import seaborn as sns\n",
        "import matplotlib.pyplot as plt\n",
        "import pickle\n",
        "\n",
        "from sklearn.preprocessing import OneHotEncoder, LabelEncoder, StandardScaler\n",
        "from sklearn.metrics import confusion_matrix, accuracy_score, f1_score\n",
        "from sklearn.ensemble import RandomForestClassifier\n",
        "\n",
        "import warnings\n",
        "warnings.filterwarnings(\"ignore\")"
      ],
      "execution_count": null,
      "outputs": []
    },
    {
      "cell_type": "markdown",
      "metadata": {
        "id": "Kc8uu-lbi6mi"
      },
      "source": [
        "#### Loading and viewing the datasets"
      ]
    },
    {
      "cell_type": "code",
      "metadata": {
        "colab": {
          "base_uri": "https://localhost:8080/",
          "height": 592
        },
        "id": "EkqdcjMxi6mj",
        "outputId": "68ea3db7-96ae-483b-9b19-c16a0bbfc868"
      },
      "source": [
        "# Loading train set\n",
        "hotel_data_train = pd.read_csv('/content/drive/MyDrive/Colab Notebooks/Data_Strome_2.0/Hotel-A-train.csv')\n",
        "\n",
        "# Loading validation set\n",
        "hotel_data_val = pd.read_csv('/content/drive/MyDrive/Colab Notebooks/Data_Strome_2.0/Hotel-A-validation.csv')\n",
        "\n",
        "hotel_data_train"
      ],
      "execution_count": null,
      "outputs": [
        {
          "output_type": "execute_result",
          "data": {
            "text/html": [
              "<div>\n",
              "<style scoped>\n",
              "    .dataframe tbody tr th:only-of-type {\n",
              "        vertical-align: middle;\n",
              "    }\n",
              "\n",
              "    .dataframe tbody tr th {\n",
              "        vertical-align: top;\n",
              "    }\n",
              "\n",
              "    .dataframe thead th {\n",
              "        text-align: right;\n",
              "    }\n",
              "</style>\n",
              "<table border=\"1\" class=\"dataframe\">\n",
              "  <thead>\n",
              "    <tr style=\"text-align: right;\">\n",
              "      <th></th>\n",
              "      <th>Reservation-id</th>\n",
              "      <th>Gender</th>\n",
              "      <th>Age</th>\n",
              "      <th>Ethnicity</th>\n",
              "      <th>Educational_Level</th>\n",
              "      <th>Income</th>\n",
              "      <th>Country_region</th>\n",
              "      <th>Hotel_Type</th>\n",
              "      <th>Expected_checkin</th>\n",
              "      <th>Expected_checkout</th>\n",
              "      <th>Booking_date</th>\n",
              "      <th>Adults</th>\n",
              "      <th>Children</th>\n",
              "      <th>Babies</th>\n",
              "      <th>Meal_Type</th>\n",
              "      <th>Visted_Previously</th>\n",
              "      <th>Previous_Cancellations</th>\n",
              "      <th>Deposit_type</th>\n",
              "      <th>Booking_channel</th>\n",
              "      <th>Required_Car_Parking</th>\n",
              "      <th>Reservation_Status</th>\n",
              "      <th>Use_Promotion</th>\n",
              "      <th>Discount_Rate</th>\n",
              "      <th>Room_Rate</th>\n",
              "    </tr>\n",
              "  </thead>\n",
              "  <tbody>\n",
              "    <tr>\n",
              "      <th>0</th>\n",
              "      <td>39428300</td>\n",
              "      <td>F</td>\n",
              "      <td>40</td>\n",
              "      <td>Latino</td>\n",
              "      <td>Grad</td>\n",
              "      <td>&lt;25K</td>\n",
              "      <td>North</td>\n",
              "      <td>City Hotel</td>\n",
              "      <td>7/1/2015</td>\n",
              "      <td>7/2/2015</td>\n",
              "      <td>5/21/2015</td>\n",
              "      <td>2</td>\n",
              "      <td>2</td>\n",
              "      <td>0</td>\n",
              "      <td>BB</td>\n",
              "      <td>No</td>\n",
              "      <td>No</td>\n",
              "      <td>No Deposit</td>\n",
              "      <td>Online</td>\n",
              "      <td>Yes</td>\n",
              "      <td>Check-In</td>\n",
              "      <td>Yes</td>\n",
              "      <td>10</td>\n",
              "      <td>218</td>\n",
              "    </tr>\n",
              "    <tr>\n",
              "      <th>1</th>\n",
              "      <td>77491756</td>\n",
              "      <td>F</td>\n",
              "      <td>49</td>\n",
              "      <td>Latino</td>\n",
              "      <td>Mid-School</td>\n",
              "      <td>50K -- 100K</td>\n",
              "      <td>East</td>\n",
              "      <td>City Hotel</td>\n",
              "      <td>7/1/2015</td>\n",
              "      <td>7/2/2015</td>\n",
              "      <td>5/26/2015</td>\n",
              "      <td>3</td>\n",
              "      <td>3</td>\n",
              "      <td>0</td>\n",
              "      <td>BB</td>\n",
              "      <td>No</td>\n",
              "      <td>No</td>\n",
              "      <td>Refundable</td>\n",
              "      <td>Online</td>\n",
              "      <td>Yes</td>\n",
              "      <td>Check-In</td>\n",
              "      <td>No</td>\n",
              "      <td>0</td>\n",
              "      <td>185</td>\n",
              "    </tr>\n",
              "    <tr>\n",
              "      <th>2</th>\n",
              "      <td>73747291</td>\n",
              "      <td>F</td>\n",
              "      <td>42</td>\n",
              "      <td>caucasian</td>\n",
              "      <td>Grad</td>\n",
              "      <td>&lt;25K</td>\n",
              "      <td>East</td>\n",
              "      <td>City Hotel</td>\n",
              "      <td>7/2/2015</td>\n",
              "      <td>7/6/2015</td>\n",
              "      <td>6/29/2015</td>\n",
              "      <td>3</td>\n",
              "      <td>3</td>\n",
              "      <td>0</td>\n",
              "      <td>BB</td>\n",
              "      <td>No</td>\n",
              "      <td>No</td>\n",
              "      <td>No Deposit</td>\n",
              "      <td>Online</td>\n",
              "      <td>Yes</td>\n",
              "      <td>Check-In</td>\n",
              "      <td>No</td>\n",
              "      <td>0</td>\n",
              "      <td>119</td>\n",
              "    </tr>\n",
              "    <tr>\n",
              "      <th>3</th>\n",
              "      <td>67301739</td>\n",
              "      <td>M</td>\n",
              "      <td>25</td>\n",
              "      <td>African American</td>\n",
              "      <td>College</td>\n",
              "      <td>&gt;100K</td>\n",
              "      <td>South</td>\n",
              "      <td>Airport Hotels</td>\n",
              "      <td>7/2/2015</td>\n",
              "      <td>7/3/2015</td>\n",
              "      <td>6/20/2015</td>\n",
              "      <td>4</td>\n",
              "      <td>3</td>\n",
              "      <td>0</td>\n",
              "      <td>BB</td>\n",
              "      <td>No</td>\n",
              "      <td>No</td>\n",
              "      <td>Refundable</td>\n",
              "      <td>Agent</td>\n",
              "      <td>Yes</td>\n",
              "      <td>Check-In</td>\n",
              "      <td>Yes</td>\n",
              "      <td>5</td>\n",
              "      <td>144</td>\n",
              "    </tr>\n",
              "    <tr>\n",
              "      <th>4</th>\n",
              "      <td>77222321</td>\n",
              "      <td>F</td>\n",
              "      <td>62</td>\n",
              "      <td>Latino</td>\n",
              "      <td>High-School</td>\n",
              "      <td>25K --50K</td>\n",
              "      <td>East</td>\n",
              "      <td>Resort</td>\n",
              "      <td>7/3/2015</td>\n",
              "      <td>7/4/2015</td>\n",
              "      <td>6/20/2015</td>\n",
              "      <td>1</td>\n",
              "      <td>1</td>\n",
              "      <td>0</td>\n",
              "      <td>BB</td>\n",
              "      <td>No</td>\n",
              "      <td>No</td>\n",
              "      <td>No Deposit</td>\n",
              "      <td>Direct</td>\n",
              "      <td>No</td>\n",
              "      <td>Check-In</td>\n",
              "      <td>Yes</td>\n",
              "      <td>10</td>\n",
              "      <td>242</td>\n",
              "    </tr>\n",
              "    <tr>\n",
              "      <th>...</th>\n",
              "      <td>...</td>\n",
              "      <td>...</td>\n",
              "      <td>...</td>\n",
              "      <td>...</td>\n",
              "      <td>...</td>\n",
              "      <td>...</td>\n",
              "      <td>...</td>\n",
              "      <td>...</td>\n",
              "      <td>...</td>\n",
              "      <td>...</td>\n",
              "      <td>...</td>\n",
              "      <td>...</td>\n",
              "      <td>...</td>\n",
              "      <td>...</td>\n",
              "      <td>...</td>\n",
              "      <td>...</td>\n",
              "      <td>...</td>\n",
              "      <td>...</td>\n",
              "      <td>...</td>\n",
              "      <td>...</td>\n",
              "      <td>...</td>\n",
              "      <td>...</td>\n",
              "      <td>...</td>\n",
              "      <td>...</td>\n",
              "    </tr>\n",
              "    <tr>\n",
              "      <th>27494</th>\n",
              "      <td>15645505</td>\n",
              "      <td>F</td>\n",
              "      <td>49</td>\n",
              "      <td>African American</td>\n",
              "      <td>Mid-School</td>\n",
              "      <td>&lt;25K</td>\n",
              "      <td>West</td>\n",
              "      <td>City Hotel</td>\n",
              "      <td>8/31/2016</td>\n",
              "      <td>9/1/2016</td>\n",
              "      <td>7/25/2016</td>\n",
              "      <td>1</td>\n",
              "      <td>2</td>\n",
              "      <td>1</td>\n",
              "      <td>HB</td>\n",
              "      <td>Yes</td>\n",
              "      <td>Yes</td>\n",
              "      <td>No Deposit</td>\n",
              "      <td>Online</td>\n",
              "      <td>Yes</td>\n",
              "      <td>Check-In</td>\n",
              "      <td>Yes</td>\n",
              "      <td>10</td>\n",
              "      <td>100</td>\n",
              "    </tr>\n",
              "    <tr>\n",
              "      <th>27495</th>\n",
              "      <td>56414525</td>\n",
              "      <td>F</td>\n",
              "      <td>49</td>\n",
              "      <td>Asian American</td>\n",
              "      <td>College</td>\n",
              "      <td>25K --50K</td>\n",
              "      <td>South</td>\n",
              "      <td>Airport Hotels</td>\n",
              "      <td>8/31/2016</td>\n",
              "      <td>9/1/2016</td>\n",
              "      <td>4/26/2016</td>\n",
              "      <td>2</td>\n",
              "      <td>1</td>\n",
              "      <td>0</td>\n",
              "      <td>BB</td>\n",
              "      <td>No</td>\n",
              "      <td>No</td>\n",
              "      <td>Refundable</td>\n",
              "      <td>Agent</td>\n",
              "      <td>Yes</td>\n",
              "      <td>No-Show</td>\n",
              "      <td>Yes</td>\n",
              "      <td>40</td>\n",
              "      <td>194</td>\n",
              "    </tr>\n",
              "    <tr>\n",
              "      <th>27496</th>\n",
              "      <td>52023375</td>\n",
              "      <td>F</td>\n",
              "      <td>49</td>\n",
              "      <td>Latino</td>\n",
              "      <td>High-School</td>\n",
              "      <td>50K -- 100K</td>\n",
              "      <td>South</td>\n",
              "      <td>Airport Hotels</td>\n",
              "      <td>9/1/2016</td>\n",
              "      <td>9/2/2016</td>\n",
              "      <td>8/23/2016</td>\n",
              "      <td>2</td>\n",
              "      <td>1</td>\n",
              "      <td>1</td>\n",
              "      <td>HB</td>\n",
              "      <td>No</td>\n",
              "      <td>No</td>\n",
              "      <td>No Deposit</td>\n",
              "      <td>Direct</td>\n",
              "      <td>Yes</td>\n",
              "      <td>Check-In</td>\n",
              "      <td>Yes</td>\n",
              "      <td>5</td>\n",
              "      <td>202</td>\n",
              "    </tr>\n",
              "    <tr>\n",
              "      <th>27497</th>\n",
              "      <td>98041387</td>\n",
              "      <td>M</td>\n",
              "      <td>65</td>\n",
              "      <td>African American</td>\n",
              "      <td>College</td>\n",
              "      <td>25K --50K</td>\n",
              "      <td>South</td>\n",
              "      <td>Airport Hotels</td>\n",
              "      <td>8/31/2016</td>\n",
              "      <td>9/1/2016</td>\n",
              "      <td>5/25/2016</td>\n",
              "      <td>3</td>\n",
              "      <td>2</td>\n",
              "      <td>0</td>\n",
              "      <td>FB</td>\n",
              "      <td>No</td>\n",
              "      <td>No</td>\n",
              "      <td>No Deposit</td>\n",
              "      <td>Online</td>\n",
              "      <td>No</td>\n",
              "      <td>Canceled</td>\n",
              "      <td>Yes</td>\n",
              "      <td>20</td>\n",
              "      <td>157</td>\n",
              "    </tr>\n",
              "    <tr>\n",
              "      <th>27498</th>\n",
              "      <td>55243988</td>\n",
              "      <td>F</td>\n",
              "      <td>48</td>\n",
              "      <td>caucasian</td>\n",
              "      <td>College</td>\n",
              "      <td>25K --50K</td>\n",
              "      <td>North</td>\n",
              "      <td>Resort</td>\n",
              "      <td>8/31/2016</td>\n",
              "      <td>9/1/2016</td>\n",
              "      <td>6/27/2016</td>\n",
              "      <td>3</td>\n",
              "      <td>1</td>\n",
              "      <td>0</td>\n",
              "      <td>HB</td>\n",
              "      <td>No</td>\n",
              "      <td>No</td>\n",
              "      <td>No Deposit</td>\n",
              "      <td>Online</td>\n",
              "      <td>No</td>\n",
              "      <td>No-Show</td>\n",
              "      <td>No</td>\n",
              "      <td>0</td>\n",
              "      <td>210</td>\n",
              "    </tr>\n",
              "  </tbody>\n",
              "</table>\n",
              "<p>27499 rows × 24 columns</p>\n",
              "</div>"
            ],
            "text/plain": [
              "       Reservation-id Gender  Age  ... Use_Promotion Discount_Rate Room_Rate\n",
              "0            39428300      F   40  ...           Yes            10       218\n",
              "1            77491756      F   49  ...            No             0       185\n",
              "2            73747291      F   42  ...            No             0       119\n",
              "3            67301739      M   25  ...           Yes             5       144\n",
              "4            77222321      F   62  ...           Yes            10       242\n",
              "...               ...    ...  ...  ...           ...           ...       ...\n",
              "27494        15645505      F   49  ...           Yes            10       100\n",
              "27495        56414525      F   49  ...           Yes            40       194\n",
              "27496        52023375      F   49  ...           Yes             5       202\n",
              "27497        98041387      M   65  ...           Yes            20       157\n",
              "27498        55243988      F   48  ...            No             0       210\n",
              "\n",
              "[27499 rows x 24 columns]"
            ]
          },
          "metadata": {
            "tags": []
          },
          "execution_count": 3
        }
      ]
    },
    {
      "cell_type": "code",
      "metadata": {
        "colab": {
          "base_uri": "https://localhost:8080/"
        },
        "id": "RU7z1IWHi6mo",
        "outputId": "00cef101-921f-45b2-d0d9-f391658d827d"
      },
      "source": [
        "hotel_data_train.info()"
      ],
      "execution_count": null,
      "outputs": [
        {
          "output_type": "stream",
          "text": [
            "<class 'pandas.core.frame.DataFrame'>\n",
            "RangeIndex: 27499 entries, 0 to 27498\n",
            "Data columns (total 24 columns):\n",
            " #   Column                  Non-Null Count  Dtype \n",
            "---  ------                  --------------  ----- \n",
            " 0   Reservation-id          27499 non-null  int64 \n",
            " 1   Gender                  27499 non-null  object\n",
            " 2   Age                     27499 non-null  int64 \n",
            " 3   Ethnicity               27499 non-null  object\n",
            " 4   Educational_Level       27499 non-null  object\n",
            " 5   Income                  27499 non-null  object\n",
            " 6   Country_region          27499 non-null  object\n",
            " 7   Hotel_Type              27499 non-null  object\n",
            " 8   Expected_checkin        27499 non-null  object\n",
            " 9   Expected_checkout       27499 non-null  object\n",
            " 10  Booking_date            27499 non-null  object\n",
            " 11  Adults                  27499 non-null  int64 \n",
            " 12  Children                27499 non-null  int64 \n",
            " 13  Babies                  27499 non-null  int64 \n",
            " 14  Meal_Type               27499 non-null  object\n",
            " 15  Visted_Previously       27499 non-null  object\n",
            " 16  Previous_Cancellations  27499 non-null  object\n",
            " 17  Deposit_type            27499 non-null  object\n",
            " 18  Booking_channel         27499 non-null  object\n",
            " 19  Required_Car_Parking    27499 non-null  object\n",
            " 20  Reservation_Status      27499 non-null  object\n",
            " 21  Use_Promotion           27499 non-null  object\n",
            " 22  Discount_Rate           27499 non-null  int64 \n",
            " 23  Room_Rate               27499 non-null  int64 \n",
            "dtypes: int64(7), object(17)\n",
            "memory usage: 5.0+ MB\n"
          ],
          "name": "stdout"
        }
      ]
    },
    {
      "cell_type": "markdown",
      "metadata": {
        "id": "IZIX5Ygqi6mq"
      },
      "source": [
        "#### Date columns convertion to datetime format"
      ]
    },
    {
      "cell_type": "code",
      "metadata": {
        "id": "ArfDX-65i6mt"
      },
      "source": [
        "# For training dataset\n",
        "\n",
        "hotel_data_train['Expected_checkout'] = pd.to_datetime(hotel_data_train['Expected_checkout'])\n",
        "hotel_data_train['Expected_checkin'] = pd.to_datetime(hotel_data_train['Expected_checkin'])\n",
        "hotel_data_train['Booking_date'] = pd.to_datetime(hotel_data_train['Booking_date'])\n",
        "\n",
        "# For validation dataset\n",
        "\n",
        "hotel_data_val['Expected_checkout'] = pd.to_datetime(hotel_data_val['Expected_checkout'])\n",
        "hotel_data_val['Expected_checkin'] = pd.to_datetime(hotel_data_val['Expected_checkin'])\n",
        "hotel_data_val['Booking_date'] = pd.to_datetime(hotel_data_val['Booking_date'])"
      ],
      "execution_count": null,
      "outputs": []
    },
    {
      "cell_type": "markdown",
      "metadata": {
        "id": "VD6sqYIhi6mu"
      },
      "source": [
        "#### New variables from date data"
      ]
    },
    {
      "cell_type": "code",
      "metadata": {
        "id": "gnfzaTsai6mv"
      },
      "source": [
        "# For training dataset\n",
        "\n",
        "hotel_data_train['No_days_stay'] = hotel_data_train['Expected_checkout'] - hotel_data_train['Expected_checkin']\n",
        "hotel_data_train['No_days_before_book'] = hotel_data_train['Expected_checkin'] - hotel_data_train['Booking_date']\n",
        "\n",
        "# For validation dataset\n",
        "\n",
        "hotel_data_val['No_days_stay'] = hotel_data_val['Expected_checkout'] - hotel_data_val['Expected_checkin']\n",
        "hotel_data_val['No_days_before_book'] = hotel_data_val['Expected_checkin'] - hotel_data_val['Booking_date']"
      ],
      "execution_count": null,
      "outputs": []
    },
    {
      "cell_type": "code",
      "metadata": {
        "id": "jpfAUkyhi6mw"
      },
      "source": [
        "# For training dataset\n",
        "\n",
        "for ind in hotel_data_train.index:\n",
        "    day_stay = hotel_data_train['No_days_stay'][ind]\n",
        "    hotel_data_train['No_days_stay'][ind] = pd.to_timedelta([day_stay]).astype('timedelta64[D]')[0]\n",
        "    \n",
        "    day_booking = hotel_data_train['No_days_before_book'][ind]\n",
        "    hotel_data_train['No_days_before_book'][ind] = pd.to_timedelta([day_booking]).astype('timedelta64[D]')[0]\n",
        "    \n",
        "# For validation dataset\n",
        "\n",
        "for ind in hotel_data_val.index:\n",
        "    day_stay = hotel_data_val['No_days_stay'][ind]\n",
        "    hotel_data_val['No_days_stay'][ind] = pd.to_timedelta([day_stay]).astype('timedelta64[D]')[0]\n",
        "    \n",
        "    day_booking = hotel_data_val['No_days_before_book'][ind]\n",
        "    hotel_data_val['No_days_before_book'][ind] = pd.to_timedelta([day_booking]).astype('timedelta64[D]')[0]"
      ],
      "execution_count": null,
      "outputs": []
    },
    {
      "cell_type": "code",
      "metadata": {
        "id": "gnj3FZ1Oi6mx"
      },
      "source": [
        "# For Training dataset\n",
        "\n",
        "hotel_data_train['No_days_stay'] = hotel_data_train['No_days_stay'].astype(int)\n",
        "hotel_data_train['No_days_before_book'] = hotel_data_train['No_days_before_book'].astype(int)\n",
        "\n",
        "# For validation dataset\n",
        "\n",
        "hotel_data_val['No_days_stay'] = hotel_data_val['No_days_stay'].astype(int)\n",
        "hotel_data_val['No_days_before_book'] = hotel_data_val['No_days_before_book'].astype(int)"
      ],
      "execution_count": null,
      "outputs": []
    },
    {
      "cell_type": "markdown",
      "metadata": {
        "id": "EHWKqbfsi6my"
      },
      "source": [
        "#### Droping some variables based on domain knowledge"
      ]
    },
    {
      "cell_type": "code",
      "metadata": {
        "colab": {
          "base_uri": "https://localhost:8080/",
          "height": 275
        },
        "id": "IV8E0P4Ki6mz",
        "outputId": "09d91b72-64d8-4aea-831c-ed52b64fc5b1"
      },
      "source": [
        "# For training dataset\n",
        "\n",
        "hotel_data_train = hotel_data_train.drop(['Reservation-id', 'Expected_checkout', 'Expected_checkin', 'Booking_date'], axis = 1)\n",
        "\n",
        "# For validation dataset\n",
        "\n",
        "hotel_data_val = hotel_data_val.drop(['Reservation-id', 'Expected_checkout', 'Expected_checkin', 'Booking_date'], axis = 1)\n",
        "\n",
        "hotel_data_train.head()"
      ],
      "execution_count": null,
      "outputs": [
        {
          "output_type": "execute_result",
          "data": {
            "text/html": [
              "<div>\n",
              "<style scoped>\n",
              "    .dataframe tbody tr th:only-of-type {\n",
              "        vertical-align: middle;\n",
              "    }\n",
              "\n",
              "    .dataframe tbody tr th {\n",
              "        vertical-align: top;\n",
              "    }\n",
              "\n",
              "    .dataframe thead th {\n",
              "        text-align: right;\n",
              "    }\n",
              "</style>\n",
              "<table border=\"1\" class=\"dataframe\">\n",
              "  <thead>\n",
              "    <tr style=\"text-align: right;\">\n",
              "      <th></th>\n",
              "      <th>Gender</th>\n",
              "      <th>Age</th>\n",
              "      <th>Ethnicity</th>\n",
              "      <th>Educational_Level</th>\n",
              "      <th>Income</th>\n",
              "      <th>Country_region</th>\n",
              "      <th>Hotel_Type</th>\n",
              "      <th>Adults</th>\n",
              "      <th>Children</th>\n",
              "      <th>Babies</th>\n",
              "      <th>Meal_Type</th>\n",
              "      <th>Visted_Previously</th>\n",
              "      <th>Previous_Cancellations</th>\n",
              "      <th>Deposit_type</th>\n",
              "      <th>Booking_channel</th>\n",
              "      <th>Required_Car_Parking</th>\n",
              "      <th>Reservation_Status</th>\n",
              "      <th>Use_Promotion</th>\n",
              "      <th>Discount_Rate</th>\n",
              "      <th>Room_Rate</th>\n",
              "      <th>No_days_stay</th>\n",
              "      <th>No_days_before_book</th>\n",
              "    </tr>\n",
              "  </thead>\n",
              "  <tbody>\n",
              "    <tr>\n",
              "      <th>0</th>\n",
              "      <td>F</td>\n",
              "      <td>40</td>\n",
              "      <td>Latino</td>\n",
              "      <td>Grad</td>\n",
              "      <td>&lt;25K</td>\n",
              "      <td>North</td>\n",
              "      <td>City Hotel</td>\n",
              "      <td>2</td>\n",
              "      <td>2</td>\n",
              "      <td>0</td>\n",
              "      <td>BB</td>\n",
              "      <td>No</td>\n",
              "      <td>No</td>\n",
              "      <td>No Deposit</td>\n",
              "      <td>Online</td>\n",
              "      <td>Yes</td>\n",
              "      <td>Check-In</td>\n",
              "      <td>Yes</td>\n",
              "      <td>10</td>\n",
              "      <td>218</td>\n",
              "      <td>1</td>\n",
              "      <td>41</td>\n",
              "    </tr>\n",
              "    <tr>\n",
              "      <th>1</th>\n",
              "      <td>F</td>\n",
              "      <td>49</td>\n",
              "      <td>Latino</td>\n",
              "      <td>Mid-School</td>\n",
              "      <td>50K -- 100K</td>\n",
              "      <td>East</td>\n",
              "      <td>City Hotel</td>\n",
              "      <td>3</td>\n",
              "      <td>3</td>\n",
              "      <td>0</td>\n",
              "      <td>BB</td>\n",
              "      <td>No</td>\n",
              "      <td>No</td>\n",
              "      <td>Refundable</td>\n",
              "      <td>Online</td>\n",
              "      <td>Yes</td>\n",
              "      <td>Check-In</td>\n",
              "      <td>No</td>\n",
              "      <td>0</td>\n",
              "      <td>185</td>\n",
              "      <td>1</td>\n",
              "      <td>36</td>\n",
              "    </tr>\n",
              "    <tr>\n",
              "      <th>2</th>\n",
              "      <td>F</td>\n",
              "      <td>42</td>\n",
              "      <td>caucasian</td>\n",
              "      <td>Grad</td>\n",
              "      <td>&lt;25K</td>\n",
              "      <td>East</td>\n",
              "      <td>City Hotel</td>\n",
              "      <td>3</td>\n",
              "      <td>3</td>\n",
              "      <td>0</td>\n",
              "      <td>BB</td>\n",
              "      <td>No</td>\n",
              "      <td>No</td>\n",
              "      <td>No Deposit</td>\n",
              "      <td>Online</td>\n",
              "      <td>Yes</td>\n",
              "      <td>Check-In</td>\n",
              "      <td>No</td>\n",
              "      <td>0</td>\n",
              "      <td>119</td>\n",
              "      <td>4</td>\n",
              "      <td>3</td>\n",
              "    </tr>\n",
              "    <tr>\n",
              "      <th>3</th>\n",
              "      <td>M</td>\n",
              "      <td>25</td>\n",
              "      <td>African American</td>\n",
              "      <td>College</td>\n",
              "      <td>&gt;100K</td>\n",
              "      <td>South</td>\n",
              "      <td>Airport Hotels</td>\n",
              "      <td>4</td>\n",
              "      <td>3</td>\n",
              "      <td>0</td>\n",
              "      <td>BB</td>\n",
              "      <td>No</td>\n",
              "      <td>No</td>\n",
              "      <td>Refundable</td>\n",
              "      <td>Agent</td>\n",
              "      <td>Yes</td>\n",
              "      <td>Check-In</td>\n",
              "      <td>Yes</td>\n",
              "      <td>5</td>\n",
              "      <td>144</td>\n",
              "      <td>1</td>\n",
              "      <td>12</td>\n",
              "    </tr>\n",
              "    <tr>\n",
              "      <th>4</th>\n",
              "      <td>F</td>\n",
              "      <td>62</td>\n",
              "      <td>Latino</td>\n",
              "      <td>High-School</td>\n",
              "      <td>25K --50K</td>\n",
              "      <td>East</td>\n",
              "      <td>Resort</td>\n",
              "      <td>1</td>\n",
              "      <td>1</td>\n",
              "      <td>0</td>\n",
              "      <td>BB</td>\n",
              "      <td>No</td>\n",
              "      <td>No</td>\n",
              "      <td>No Deposit</td>\n",
              "      <td>Direct</td>\n",
              "      <td>No</td>\n",
              "      <td>Check-In</td>\n",
              "      <td>Yes</td>\n",
              "      <td>10</td>\n",
              "      <td>242</td>\n",
              "      <td>1</td>\n",
              "      <td>13</td>\n",
              "    </tr>\n",
              "  </tbody>\n",
              "</table>\n",
              "</div>"
            ],
            "text/plain": [
              "  Gender  Age         Ethnicity  ... Room_Rate No_days_stay No_days_before_book\n",
              "0      F   40            Latino  ...       218            1                  41\n",
              "1      F   49            Latino  ...       185            1                  36\n",
              "2      F   42         caucasian  ...       119            4                   3\n",
              "3      M   25  African American  ...       144            1                  12\n",
              "4      F   62            Latino  ...       242            1                  13\n",
              "\n",
              "[5 rows x 22 columns]"
            ]
          },
          "metadata": {
            "tags": []
          },
          "execution_count": 9
        }
      ]
    },
    {
      "cell_type": "code",
      "metadata": {
        "colab": {
          "base_uri": "https://localhost:8080/"
        },
        "id": "mm4kVdfzi6m0",
        "outputId": "47b1b1e2-172d-4929-e1dd-861961c06797"
      },
      "source": [
        "hotel_data_train.info()"
      ],
      "execution_count": null,
      "outputs": [
        {
          "output_type": "stream",
          "text": [
            "<class 'pandas.core.frame.DataFrame'>\n",
            "RangeIndex: 27499 entries, 0 to 27498\n",
            "Data columns (total 22 columns):\n",
            " #   Column                  Non-Null Count  Dtype \n",
            "---  ------                  --------------  ----- \n",
            " 0   Gender                  27499 non-null  object\n",
            " 1   Age                     27499 non-null  int64 \n",
            " 2   Ethnicity               27499 non-null  object\n",
            " 3   Educational_Level       27499 non-null  object\n",
            " 4   Income                  27499 non-null  object\n",
            " 5   Country_region          27499 non-null  object\n",
            " 6   Hotel_Type              27499 non-null  object\n",
            " 7   Adults                  27499 non-null  int64 \n",
            " 8   Children                27499 non-null  int64 \n",
            " 9   Babies                  27499 non-null  int64 \n",
            " 10  Meal_Type               27499 non-null  object\n",
            " 11  Visted_Previously       27499 non-null  object\n",
            " 12  Previous_Cancellations  27499 non-null  object\n",
            " 13  Deposit_type            27499 non-null  object\n",
            " 14  Booking_channel         27499 non-null  object\n",
            " 15  Required_Car_Parking    27499 non-null  object\n",
            " 16  Reservation_Status      27499 non-null  object\n",
            " 17  Use_Promotion           27499 non-null  object\n",
            " 18  Discount_Rate           27499 non-null  int64 \n",
            " 19  Room_Rate               27499 non-null  int64 \n",
            " 20  No_days_stay            27499 non-null  int64 \n",
            " 21  No_days_before_book     27499 non-null  int64 \n",
            "dtypes: int64(8), object(14)\n",
            "memory usage: 4.6+ MB\n"
          ],
          "name": "stdout"
        }
      ]
    },
    {
      "cell_type": "markdown",
      "metadata": {
        "id": "q_6WqtIri6m1"
      },
      "source": [
        "#### Encoding string categorical data into numeric categories"
      ]
    },
    {
      "cell_type": "code",
      "metadata": {
        "colab": {
          "base_uri": "https://localhost:8080/",
          "height": 224
        },
        "id": "p4Or_JX4i6m2",
        "outputId": "3720ce83-c254-45a5-a11f-9f538d9bb3d3"
      },
      "source": [
        "cat_columns = ['Gender', 'Ethnicity', 'Educational_Level', 'Income', 'Country_region', 'Hotel_Type', 'Meal_Type', 'Visted_Previously', 'Previous_Cancellations', 'Deposit_type', 'Booking_channel', 'Required_Car_Parking', 'Reservation_Status', 'Use_Promotion']\n",
        "\n",
        "for col in cat_columns:\n",
        "    lben = LabelEncoder()\n",
        "    \n",
        "    # For training dataset\n",
        "    hotel_data_train[col] = lben.fit_transform(hotel_data_train[col])\n",
        "    \n",
        "    # For training dataset\n",
        "    hotel_data_val[col] = lben.fit_transform(hotel_data_val[col])\n",
        "    \n",
        "hotel_data_train.head()"
      ],
      "execution_count": null,
      "outputs": [
        {
          "output_type": "execute_result",
          "data": {
            "text/html": [
              "<div>\n",
              "<style scoped>\n",
              "    .dataframe tbody tr th:only-of-type {\n",
              "        vertical-align: middle;\n",
              "    }\n",
              "\n",
              "    .dataframe tbody tr th {\n",
              "        vertical-align: top;\n",
              "    }\n",
              "\n",
              "    .dataframe thead th {\n",
              "        text-align: right;\n",
              "    }\n",
              "</style>\n",
              "<table border=\"1\" class=\"dataframe\">\n",
              "  <thead>\n",
              "    <tr style=\"text-align: right;\">\n",
              "      <th></th>\n",
              "      <th>Gender</th>\n",
              "      <th>Age</th>\n",
              "      <th>Ethnicity</th>\n",
              "      <th>Educational_Level</th>\n",
              "      <th>Income</th>\n",
              "      <th>Country_region</th>\n",
              "      <th>Hotel_Type</th>\n",
              "      <th>Adults</th>\n",
              "      <th>Children</th>\n",
              "      <th>Babies</th>\n",
              "      <th>Meal_Type</th>\n",
              "      <th>Visted_Previously</th>\n",
              "      <th>Previous_Cancellations</th>\n",
              "      <th>Deposit_type</th>\n",
              "      <th>Booking_channel</th>\n",
              "      <th>Required_Car_Parking</th>\n",
              "      <th>Reservation_Status</th>\n",
              "      <th>Use_Promotion</th>\n",
              "      <th>Discount_Rate</th>\n",
              "      <th>Room_Rate</th>\n",
              "      <th>No_days_stay</th>\n",
              "      <th>No_days_before_book</th>\n",
              "    </tr>\n",
              "  </thead>\n",
              "  <tbody>\n",
              "    <tr>\n",
              "      <th>0</th>\n",
              "      <td>0</td>\n",
              "      <td>40</td>\n",
              "      <td>2</td>\n",
              "      <td>1</td>\n",
              "      <td>2</td>\n",
              "      <td>1</td>\n",
              "      <td>1</td>\n",
              "      <td>2</td>\n",
              "      <td>2</td>\n",
              "      <td>0</td>\n",
              "      <td>0</td>\n",
              "      <td>0</td>\n",
              "      <td>0</td>\n",
              "      <td>0</td>\n",
              "      <td>2</td>\n",
              "      <td>1</td>\n",
              "      <td>1</td>\n",
              "      <td>1</td>\n",
              "      <td>10</td>\n",
              "      <td>218</td>\n",
              "      <td>1</td>\n",
              "      <td>41</td>\n",
              "    </tr>\n",
              "    <tr>\n",
              "      <th>1</th>\n",
              "      <td>0</td>\n",
              "      <td>49</td>\n",
              "      <td>2</td>\n",
              "      <td>3</td>\n",
              "      <td>1</td>\n",
              "      <td>0</td>\n",
              "      <td>1</td>\n",
              "      <td>3</td>\n",
              "      <td>3</td>\n",
              "      <td>0</td>\n",
              "      <td>0</td>\n",
              "      <td>0</td>\n",
              "      <td>0</td>\n",
              "      <td>2</td>\n",
              "      <td>2</td>\n",
              "      <td>1</td>\n",
              "      <td>1</td>\n",
              "      <td>0</td>\n",
              "      <td>0</td>\n",
              "      <td>185</td>\n",
              "      <td>1</td>\n",
              "      <td>36</td>\n",
              "    </tr>\n",
              "    <tr>\n",
              "      <th>2</th>\n",
              "      <td>0</td>\n",
              "      <td>42</td>\n",
              "      <td>3</td>\n",
              "      <td>1</td>\n",
              "      <td>2</td>\n",
              "      <td>0</td>\n",
              "      <td>1</td>\n",
              "      <td>3</td>\n",
              "      <td>3</td>\n",
              "      <td>0</td>\n",
              "      <td>0</td>\n",
              "      <td>0</td>\n",
              "      <td>0</td>\n",
              "      <td>0</td>\n",
              "      <td>2</td>\n",
              "      <td>1</td>\n",
              "      <td>1</td>\n",
              "      <td>0</td>\n",
              "      <td>0</td>\n",
              "      <td>119</td>\n",
              "      <td>4</td>\n",
              "      <td>3</td>\n",
              "    </tr>\n",
              "    <tr>\n",
              "      <th>3</th>\n",
              "      <td>1</td>\n",
              "      <td>25</td>\n",
              "      <td>0</td>\n",
              "      <td>0</td>\n",
              "      <td>3</td>\n",
              "      <td>2</td>\n",
              "      <td>0</td>\n",
              "      <td>4</td>\n",
              "      <td>3</td>\n",
              "      <td>0</td>\n",
              "      <td>0</td>\n",
              "      <td>0</td>\n",
              "      <td>0</td>\n",
              "      <td>2</td>\n",
              "      <td>0</td>\n",
              "      <td>1</td>\n",
              "      <td>1</td>\n",
              "      <td>1</td>\n",
              "      <td>5</td>\n",
              "      <td>144</td>\n",
              "      <td>1</td>\n",
              "      <td>12</td>\n",
              "    </tr>\n",
              "    <tr>\n",
              "      <th>4</th>\n",
              "      <td>0</td>\n",
              "      <td>62</td>\n",
              "      <td>2</td>\n",
              "      <td>2</td>\n",
              "      <td>0</td>\n",
              "      <td>0</td>\n",
              "      <td>2</td>\n",
              "      <td>1</td>\n",
              "      <td>1</td>\n",
              "      <td>0</td>\n",
              "      <td>0</td>\n",
              "      <td>0</td>\n",
              "      <td>0</td>\n",
              "      <td>0</td>\n",
              "      <td>1</td>\n",
              "      <td>0</td>\n",
              "      <td>1</td>\n",
              "      <td>1</td>\n",
              "      <td>10</td>\n",
              "      <td>242</td>\n",
              "      <td>1</td>\n",
              "      <td>13</td>\n",
              "    </tr>\n",
              "  </tbody>\n",
              "</table>\n",
              "</div>"
            ],
            "text/plain": [
              "   Gender  Age  Ethnicity  ...  Room_Rate  No_days_stay  No_days_before_book\n",
              "0       0   40          2  ...        218             1                   41\n",
              "1       0   49          2  ...        185             1                   36\n",
              "2       0   42          3  ...        119             4                    3\n",
              "3       1   25          0  ...        144             1                   12\n",
              "4       0   62          2  ...        242             1                   13\n",
              "\n",
              "[5 rows x 22 columns]"
            ]
          },
          "metadata": {
            "tags": []
          },
          "execution_count": 11
        }
      ]
    },
    {
      "cell_type": "markdown",
      "metadata": {
        "id": "1-12Zqv4gvvg"
      },
      "source": [
        "#### Scale the quantitative variables"
      ]
    },
    {
      "cell_type": "code",
      "metadata": {
        "id": "R1CSwzzIguMg"
      },
      "source": [
        "cols_to_scl = ['Age', 'Adults', 'Children', 'Babies', 'Discount_Rate', 'Room_Rate']\r\n",
        "scl = StandardScaler()\r\n",
        "\r\n",
        "# For train dataset\r\n",
        "hotel_data_train[cols_to_scl] = scl.fit_transform(hotel_data_train[cols_to_scl])\r\n",
        "\r\n",
        "# For validation dataset\r\n",
        "hotel_data_val[cols_to_scl] = scl.fit_transform(hotel_data_val[cols_to_scl])"
      ],
      "execution_count": null,
      "outputs": []
    },
    {
      "cell_type": "markdown",
      "metadata": {
        "id": "_ZP2auSfi6m6"
      },
      "source": [
        "#### Defining dependent (y) and independent (x) variables "
      ]
    },
    {
      "cell_type": "code",
      "metadata": {
        "id": "hgTPQ4XBi6m6"
      },
      "source": [
        "# For training dataset\n",
        "\n",
        "x_train = hotel_data_train.drop('Reservation_Status', axis = 1)\n",
        "y_train = hotel_data_train['Reservation_Status']\n",
        "\n",
        "# For validation dataset\n",
        "\n",
        "x_val = hotel_data_val.drop('Reservation_Status', axis = 1)\n",
        "y_val = hotel_data_val['Reservation_Status']"
      ],
      "execution_count": null,
      "outputs": []
    },
    {
      "cell_type": "markdown",
      "metadata": {
        "id": "1pq-G4j7i6m9"
      },
      "source": [
        "#### Fitting Random Forest"
      ]
    },
    {
      "cell_type": "code",
      "metadata": {
        "colab": {
          "base_uri": "https://localhost:8080/"
        },
        "id": "aETHRDX1i6m9",
        "outputId": "df5cc7d9-8181-4a3c-b4e8-71037a73b120"
      },
      "source": [
        "clf = RandomForestClassifier(n_estimators=10, random_state= 0)\n",
        "clf.fit(x_train,y_train)"
      ],
      "execution_count": null,
      "outputs": [
        {
          "output_type": "execute_result",
          "data": {
            "text/plain": [
              "RandomForestClassifier(bootstrap=True, ccp_alpha=0.0, class_weight=None,\n",
              "                       criterion='gini', max_depth=None, max_features='auto',\n",
              "                       max_leaf_nodes=None, max_samples=None,\n",
              "                       min_impurity_decrease=0.0, min_impurity_split=None,\n",
              "                       min_samples_leaf=1, min_samples_split=2,\n",
              "                       min_weight_fraction_leaf=0.0, n_estimators=10,\n",
              "                       n_jobs=None, oob_score=False, random_state=0, verbose=0,\n",
              "                       warm_start=False)"
            ]
          },
          "metadata": {
            "tags": []
          },
          "execution_count": 14
        }
      ]
    },
    {
      "cell_type": "markdown",
      "metadata": {
        "id": "KpxqJcRNi6m-"
      },
      "source": [
        "#### Obtaining accuracy for validation test"
      ]
    },
    {
      "cell_type": "code",
      "metadata": {
        "id": "MfqLH6R9i6m_"
      },
      "source": [
        "y_pred = clf.predict(x_val)"
      ],
      "execution_count": null,
      "outputs": []
    },
    {
      "cell_type": "code",
      "metadata": {
        "colab": {
          "base_uri": "https://localhost:8080/"
        },
        "id": "PgL7nOQUi6m_",
        "outputId": "6a322339-1a2e-4d02-f58f-185f914b8dc1"
      },
      "source": [
        "print(\"Accuracy:\", accuracy_score(y_val, y_pred))"
      ],
      "execution_count": null,
      "outputs": [
        {
          "output_type": "stream",
          "text": [
            "Accuracy: 0.5765732993815933\n"
          ],
          "name": "stdout"
        }
      ]
    },
    {
      "cell_type": "code",
      "metadata": {
        "colab": {
          "base_uri": "https://localhost:8080/"
        },
        "id": "pIcjSyBbhZte",
        "outputId": "2cc0ef88-e601-4396-c928-bc0e5d341c1c"
      },
      "source": [
        "print('F1 score: {:0.2f}%.'.format(f1_score(y_val, y_pred, average='micro')))"
      ],
      "execution_count": null,
      "outputs": [
        {
          "output_type": "stream",
          "text": [
            "F1 score: 0.58%.\n"
          ],
          "name": "stdout"
        }
      ]
    },
    {
      "cell_type": "code",
      "metadata": {
        "colab": {
          "base_uri": "https://localhost:8080/"
        },
        "id": "onrKqDYEi6nB",
        "outputId": "56fdacbd-21be-4cad-9197-aac50f3fd329"
      },
      "source": [
        "confusion_matrix(y_val, y_pred)"
      ],
      "execution_count": null,
      "outputs": [
        {
          "output_type": "execute_result",
          "data": {
            "text/plain": [
              "array([[  59,  678,    4],\n",
              "       [  78, 1523,    9],\n",
              "       [  27,  368,    3]])"
            ]
          },
          "metadata": {
            "tags": []
          },
          "execution_count": 20
        }
      ]
    },
    {
      "cell_type": "markdown",
      "metadata": {
        "id": "vgp_3jZ4i6nC"
      },
      "source": [
        "#### Fitting feature importance plot"
      ]
    },
    {
      "cell_type": "code",
      "metadata": {
        "colab": {
          "base_uri": "https://localhost:8080/"
        },
        "id": "zzZllnUQi6nD",
        "outputId": "34fb5512-15f5-422b-ad24-55bcf61ba389"
      },
      "source": [
        "feature_imp = pd.Series(clf.feature_importances_, index = x_train.columns).sort_values(ascending = False)\n",
        "feature_imp"
      ],
      "execution_count": null,
      "outputs": [
        {
          "output_type": "execute_result",
          "data": {
            "text/plain": [
              "No_days_before_book       0.141416\n",
              "Room_Rate                 0.127533\n",
              "Age                       0.116381\n",
              "Discount_Rate             0.056616\n",
              "Adults                    0.049931\n",
              "Ethnicity                 0.049332\n",
              "Educational_Level         0.045813\n",
              "Income                    0.045703\n",
              "Country_region            0.045610\n",
              "No_days_stay              0.039910\n",
              "Meal_Type                 0.037817\n",
              "Children                  0.035078\n",
              "Hotel_Type                0.034838\n",
              "Booking_channel           0.032283\n",
              "Deposit_type              0.026559\n",
              "Babies                    0.024452\n",
              "Gender                    0.024446\n",
              "Required_Car_Parking      0.022327\n",
              "Visted_Previously         0.020136\n",
              "Use_Promotion             0.012919\n",
              "Previous_Cancellations    0.010900\n",
              "dtype: float64"
            ]
          },
          "metadata": {
            "tags": []
          },
          "execution_count": 21
        }
      ]
    },
    {
      "cell_type": "code",
      "metadata": {
        "colab": {
          "base_uri": "https://localhost:8080/",
          "height": 523
        },
        "id": "1roz0FYBi6nO",
        "outputId": "20d59e55-d240-4702-9f65-f9c02ae1e42e"
      },
      "source": [
        "plt.figure(figsize = (12,8))\n",
        "sns.barplot(x = feature_imp, y = feature_imp.index, palette = 'Set2')\n",
        "plt.xlabel('Feature Importance Score', fontsize = 15)\n",
        "plt.ylabel('Features', fontsize = 15)\n",
        "plt.title(\"Visualizing Important Features\", fontsize = 20)\n",
        "plt.xticks(fontsize = 15)\n",
        "plt.yticks(fontsize = 15)\n",
        "#plt.savefig('RandomForest_featureImportance.png')\n",
        "plt.show()"
      ],
      "execution_count": null,
      "outputs": [
        {
          "output_type": "display_data",
          "data": {
            "image/png": "[encoded data removed]",
            "text/plain": [
              "<Figure size 864x576 with 1 Axes>"
            ]
          },
          "metadata": {
            "tags": []
          }
        }
      ]
    },
    {
      "cell_type": "markdown",
      "metadata": {
        "id": "cCkMqKewuY1N"
      },
      "source": [
        "#### Hyper Parameter tuning using GridSearchCV"
      ]
    },
    {
      "cell_type": "code",
      "metadata": {
        "id": "J6_L5h9Bi6n2"
      },
      "source": [
        "from sklearn.model_selection import GridSearchCV"
      ],
      "execution_count": null,
      "outputs": []
    },
    {
      "cell_type": "code",
      "metadata": {
        "id": "PQqQfU10uXxi"
      },
      "source": [
        "param_grid = {\r\n",
        "    'bootstrap': [True],\r\n",
        "    'max_depth': [10, 20, 30, 40],\r\n",
        "    'max_features': [1, 2, 3, 4, 5],\r\n",
        "    'min_samples_leaf': [1, 2, 3, 4, 5],\r\n",
        "    'min_samples_split': [2, 4, 6, 8, 10],\r\n",
        "    'n_estimators': [100, 150, 200, 250]\r\n",
        "}"
      ],
      "execution_count": null,
      "outputs": []
    },
    {
      "cell_type": "code",
      "metadata": {
        "id": "ljUAEfdZuqoR"
      },
      "source": [
        "grid_search = GridSearchCV(estimator = clf, param_grid = param_grid, cv = 3, n_jobs = -1, verbose = 2)"
      ],
      "execution_count": null,
      "outputs": []
    },
    {
      "cell_type": "code",
      "metadata": {
        "colab": {
          "background_save": true,
          "base_uri": "https://localhost:8080/"
        },
        "id": "sXYTrsMxuw-d",
        "outputId": "5ac68d9b-6f60-4aca-f578-1bdfffedf163"
      },
      "source": [
        "grid_search.fit(x_train, y_train)"
      ],
      "execution_count": null,
      "outputs": [
        {
          "output_type": "stream",
          "text": [
            "Fitting 3 folds for each of 2000 candidates, totalling 6000 fits\n"
          ],
          "name": "stdout"
        },
        {
          "output_type": "stream",
          "text": [
            "[Parallel(n_jobs=-1)]: Using backend LokyBackend with 2 concurrent workers.\n",
            "[Parallel(n_jobs=-1)]: Done  37 tasks      | elapsed:   47.6s\n",
            "[Parallel(n_jobs=-1)]: Done 158 tasks      | elapsed:  3.3min\n",
            "[Parallel(n_jobs=-1)]: Done 361 tasks      | elapsed:  7.8min\n",
            "[Parallel(n_jobs=-1)]: Done 644 tasks      | elapsed: 15.4min\n",
            "[Parallel(n_jobs=-1)]: Done 1009 tasks      | elapsed: 27.4min\n",
            "[Parallel(n_jobs=-1)]: Done 1454 tasks      | elapsed: 44.8min\n",
            "[Parallel(n_jobs=-1)]: Done 1981 tasks      | elapsed: 62.5min\n",
            "[Parallel(n_jobs=-1)]: Done 2588 tasks      | elapsed: 90.6min\n",
            "[Parallel(n_jobs=-1)]: Done 3277 tasks      | elapsed: 122.9min\n",
            "[Parallel(n_jobs=-1)]: Done 4046 tasks      | elapsed: 156.4min\n",
            "[Parallel(n_jobs=-1)]: Done 4897 tasks      | elapsed: 195.8min\n",
            "[Parallel(n_jobs=-1)]: Done 5828 tasks      | elapsed: 241.5min\n",
            "[Parallel(n_jobs=-1)]: Done 6000 out of 6000 | elapsed: 252.0min finished\n"
          ],
          "name": "stderr"
        },
        {
          "output_type": "execute_result",
          "data": {
            "text/plain": [
              "GridSearchCV(cv=3, error_score=nan,\n",
              "             estimator=RandomForestClassifier(bootstrap=True, ccp_alpha=0.0,\n",
              "                                              class_weight=None,\n",
              "                                              criterion='gini', max_depth=None,\n",
              "                                              max_features='auto',\n",
              "                                              max_leaf_nodes=None,\n",
              "                                              max_samples=None,\n",
              "                                              min_impurity_decrease=0.0,\n",
              "                                              min_impurity_split=None,\n",
              "                                              min_samples_leaf=1,\n",
              "                                              min_samples_split=2,\n",
              "                                              min_weight_fraction_leaf=0.0,\n",
              "                                              n_estimators=10, n_jobs=None,\n",
              "                                              oob_score=False, random_state=0,\n",
              "                                              verbose=0, warm_start=False),\n",
              "             iid='deprecated', n_jobs=-1,\n",
              "             param_grid={'bootstrap': [True], 'max_depth': [10, 20, 30, 40],\n",
              "                         'max_features': [1, 2, 3, 4, 5],\n",
              "                         'min_samples_leaf': [1, 2, 3, 4, 5],\n",
              "                         'min_samples_split': [2, 4, 6, 8, 10],\n",
              "                         'n_estimators': [100, 150, 200, 250]},\n",
              "             pre_dispatch='2*n_jobs', refit=True, return_train_score=False,\n",
              "             scoring=None, verbose=2)"
            ]
          },
          "metadata": {
            "tags": []
          },
          "execution_count": 0
        }
      ]
    },
    {
      "cell_type": "code",
      "metadata": {
        "colab": {
          "base_uri": "https://localhost:8080/"
        },
        "id": "zatvvaDgu5Wv",
        "outputId": "42143ef5-4671-4f57-9d61-198a6d956245"
      },
      "source": [
        "grid_search.best_params_"
      ],
      "execution_count": null,
      "outputs": [
        {
          "output_type": "execute_result",
          "data": {
            "text/plain": [
              "{'bootstrap': True,\n",
              " 'max_depth': 20,\n",
              " 'max_features': 1,\n",
              " 'min_samples_leaf': 1,\n",
              " 'min_samples_split': 2,\n",
              " 'n_estimators': 150}"
            ]
          },
          "metadata": {
            "tags": []
          },
          "execution_count": 30
        }
      ]
    },
    {
      "cell_type": "code",
      "metadata": {
        "id": "_1kovhM_DM7R"
      },
      "source": [
        "def evaluate(model, test_features, test_labels):\r\n",
        "    y_pred = model.predict(test_features)\r\n",
        "    \r\n",
        "    print('Model Performance')\r\n",
        "    print('Confusion Matrix: {}'.format(confusion_matrix(y_val, y_pred)))\r\n",
        "    print('Accuracy = {:0.2f}%.'.format(accuracy_score(y_val, y_pred)))\r\n",
        "    print('F1 score = {:0.2f}%.'.format(f1_score(y_val, y_pred, average = 'micro')))\r\n",
        "    "
      ],
      "execution_count": null,
      "outputs": []
    },
    {
      "cell_type": "code",
      "metadata": {
        "colab": {
          "base_uri": "https://localhost:8080/"
        },
        "id": "nZ4BebZqCkXC",
        "outputId": "9b3fbde5-ecd5-4d16-fd54-8e87fd6db530"
      },
      "source": [
        "best_grid = grid_search.best_estimator_\r\n",
        "evaluate(best_grid, x_val, y_val)"
      ],
      "execution_count": null,
      "outputs": [
        {
          "output_type": "stream",
          "text": [
            "Model Performance\n",
            "Confusion Matrix: [[   0  741    0]\n",
            " [   0 1610    0]\n",
            " [   0  398    0]]\n",
            "Accuracy = 0.59%.\n",
            "F1 score = 0.59%.\n"
          ],
          "name": "stdout"
        }
      ]
    },
    {
      "cell_type": "code",
      "metadata": {
        "id": "QklroroqDDNZ"
      },
      "source": [
        ""
      ],
      "execution_count": null,
      "outputs": []
    }
  ]
}