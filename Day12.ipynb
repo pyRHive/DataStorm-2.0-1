{
 "cells": [
  {
   "cell_type": "code",
   "execution_count": 1,
   "metadata": {},
   "outputs": [
    {
     "name": "stderr",
     "output_type": "stream",
     "text": [
      "C:\\Users\\DELL\\Anaconda3\\lib\\site-packages\\dask\\dataframe\\utils.py:15: FutureWarning: pandas.util.testing is deprecated. Use the functions in the public API at pandas.testing instead.\n",
      "  import pandas.util.testing as tm\n"
     ]
    }
   ],
   "source": [
    "import pandas as pd\n",
    "import joblib\n",
    "from sklearn.preprocessing import LabelEncoder\n",
    "from xgboost import XGBClassifier\n",
    "from sklearn.model_selection import GridSearchCV\n",
    "from sklearn.metrics import f1_score\n",
    "import numpy as np\n",
    "from sklearn.naive_bayes import GaussianNB\n",
    "from sklearn import tree\n",
    "#from costcla.models import CostSensitiveDecisionTreeClassifier\n",
    "from sklearn.ensemble import AdaBoostClassifier"
   ]
  },
  {
   "cell_type": "code",
   "execution_count": 2,
   "metadata": {},
   "outputs": [],
   "source": [
    "df = pd.read_csv('D:\\\\Data Storm 2.0\\\\Hotel-A-train.csv')"
   ]
  },
  {
   "cell_type": "code",
   "execution_count": 4,
   "metadata": {},
   "outputs": [
    {
     "data": {
      "text/plain": [
       "Index(['Reservation-id', 'Gender', 'Age', 'Ethnicity', 'Educational_Level',\n",
       "       'Income', 'Country_region', 'Hotel_Type', 'Expected_checkin',\n",
       "       'Expected_checkout', 'Booking_date',\n",
       "       'time between booking date and check in date', 'time of stay', 'Adults',\n",
       "       'Children', 'Babies', 'Meal_Type', 'Visted_Previously',\n",
       "       'Previous_Cancellations', 'Deposit_type', 'Booking_channel',\n",
       "       'Required_Car_Parking', 'Reservation_Status', 'Use_Promotion',\n",
       "       'Discount_Rate', 'Room_Rate', 'Final Rate'],\n",
       "      dtype='object')"
      ]
     },
     "execution_count": 4,
     "metadata": {},
     "output_type": "execute_result"
    }
   ],
   "source": [
    "df.columns"
   ]
  },
  {
   "cell_type": "code",
   "execution_count": 22,
   "metadata": {
    "collapsed": true,
    "jupyter": {
     "outputs_hidden": true
    }
   },
   "outputs": [
    {
     "data": {
      "text/html": [
       "<div>\n",
       "<style scoped>\n",
       "    .dataframe tbody tr th:only-of-type {\n",
       "        vertical-align: middle;\n",
       "    }\n",
       "\n",
       "    .dataframe tbody tr th {\n",
       "        vertical-align: top;\n",
       "    }\n",
       "\n",
       "    .dataframe thead th {\n",
       "        text-align: right;\n",
       "    }\n",
       "</style>\n",
       "<table border=\"1\" class=\"dataframe\">\n",
       "  <thead>\n",
       "    <tr style=\"text-align: right;\">\n",
       "      <th></th>\n",
       "      <th>Ethnicity</th>\n",
       "      <th>Educational_Level</th>\n",
       "      <th>Income</th>\n",
       "      <th>Country_region</th>\n",
       "      <th>Hotel_Type</th>\n",
       "      <th>Meal_Type</th>\n",
       "      <th>Visted_Previously</th>\n",
       "      <th>Previous_Cancellations</th>\n",
       "      <th>Deposit_type</th>\n",
       "      <th>Booking_channel</th>\n",
       "      <th>Required_Car_Parking</th>\n",
       "      <th>Reservation_Status</th>\n",
       "      <th>Use_Promotion</th>\n",
       "    </tr>\n",
       "  </thead>\n",
       "  <tbody>\n",
       "    <tr>\n",
       "      <th>0</th>\n",
       "      <td>Latino</td>\n",
       "      <td>Grad</td>\n",
       "      <td>&lt;25K</td>\n",
       "      <td>North</td>\n",
       "      <td>City Hotel</td>\n",
       "      <td>BB</td>\n",
       "      <td>No</td>\n",
       "      <td>No</td>\n",
       "      <td>No Deposit</td>\n",
       "      <td>Online</td>\n",
       "      <td>Yes</td>\n",
       "      <td>Check-In</td>\n",
       "      <td>Yes</td>\n",
       "    </tr>\n",
       "    <tr>\n",
       "      <th>1</th>\n",
       "      <td>Latino</td>\n",
       "      <td>Mid-School</td>\n",
       "      <td>50K -- 100K</td>\n",
       "      <td>East</td>\n",
       "      <td>City Hotel</td>\n",
       "      <td>BB</td>\n",
       "      <td>No</td>\n",
       "      <td>No</td>\n",
       "      <td>Refundable</td>\n",
       "      <td>Online</td>\n",
       "      <td>Yes</td>\n",
       "      <td>Check-In</td>\n",
       "      <td>No</td>\n",
       "    </tr>\n",
       "    <tr>\n",
       "      <th>2</th>\n",
       "      <td>caucasian</td>\n",
       "      <td>Grad</td>\n",
       "      <td>&lt;25K</td>\n",
       "      <td>East</td>\n",
       "      <td>City Hotel</td>\n",
       "      <td>BB</td>\n",
       "      <td>No</td>\n",
       "      <td>No</td>\n",
       "      <td>No Deposit</td>\n",
       "      <td>Online</td>\n",
       "      <td>Yes</td>\n",
       "      <td>Check-In</td>\n",
       "      <td>No</td>\n",
       "    </tr>\n",
       "    <tr>\n",
       "      <th>3</th>\n",
       "      <td>African American</td>\n",
       "      <td>College</td>\n",
       "      <td>&gt;100K</td>\n",
       "      <td>South</td>\n",
       "      <td>Airport Hotels</td>\n",
       "      <td>BB</td>\n",
       "      <td>No</td>\n",
       "      <td>No</td>\n",
       "      <td>Refundable</td>\n",
       "      <td>Agent</td>\n",
       "      <td>Yes</td>\n",
       "      <td>Check-In</td>\n",
       "      <td>Yes</td>\n",
       "    </tr>\n",
       "    <tr>\n",
       "      <th>4</th>\n",
       "      <td>Latino</td>\n",
       "      <td>High-School</td>\n",
       "      <td>25K --50K</td>\n",
       "      <td>East</td>\n",
       "      <td>Resort</td>\n",
       "      <td>BB</td>\n",
       "      <td>No</td>\n",
       "      <td>No</td>\n",
       "      <td>No Deposit</td>\n",
       "      <td>Direct</td>\n",
       "      <td>No</td>\n",
       "      <td>Check-In</td>\n",
       "      <td>Yes</td>\n",
       "    </tr>\n",
       "  </tbody>\n",
       "</table>\n",
       "</div>"
      ],
      "text/plain": [
       "          Ethnicity Educational_Level       Income Country_region  \\\n",
       "0            Latino              Grad         <25K          North   \n",
       "1            Latino        Mid-School  50K -- 100K           East   \n",
       "2         caucasian              Grad         <25K           East   \n",
       "3  African American           College        >100K          South   \n",
       "4            Latino       High-School    25K --50K           East   \n",
       "\n",
       "       Hotel_Type Meal_Type Visted_Previously Previous_Cancellations  \\\n",
       "0      City Hotel        BB                No                     No   \n",
       "1      City Hotel        BB                No                     No   \n",
       "2      City Hotel        BB                No                     No   \n",
       "3  Airport Hotels        BB                No                     No   \n",
       "4          Resort        BB                No                     No   \n",
       "\n",
       "  Deposit_type Booking_channel Required_Car_Parking Reservation_Status  \\\n",
       "0   No Deposit          Online                  Yes           Check-In   \n",
       "1   Refundable          Online                  Yes           Check-In   \n",
       "2   No Deposit          Online                  Yes           Check-In   \n",
       "3   Refundable           Agent                  Yes           Check-In   \n",
       "4   No Deposit          Direct                   No           Check-In   \n",
       "\n",
       "  Use_Promotion  \n",
       "0           Yes  \n",
       "1            No  \n",
       "2            No  \n",
       "3           Yes  \n",
       "4           Yes  "
      ]
     },
     "execution_count": 22,
     "metadata": {},
     "output_type": "execute_result"
    }
   ],
   "source": [
    "#label encoding categorical variables\n",
    "obj_df = new_df.select_dtypes(include=['object']).copy()\n",
    "obj_df.head()"
   ]
  },
  {
   "cell_type": "code",
   "execution_count": 23,
   "metadata": {
    "collapsed": true,
    "jupyter": {
     "outputs_hidden": true,
     "source_hidden": true
    }
   },
   "outputs": [
    {
     "data": {
      "text/plain": [
       "Index(['Ethnicity', 'Educational_Level', 'Income', 'Country_region',\n",
       "       'Hotel_Type', 'Meal_Type', 'Visted_Previously',\n",
       "       'Previous_Cancellations', 'Deposit_type', 'Booking_channel',\n",
       "       'Required_Car_Parking', 'Reservation_Status', 'Use_Promotion'],\n",
       "      dtype='object')"
      ]
     },
     "execution_count": 23,
     "metadata": {},
     "output_type": "execute_result"
    }
   ],
   "source": [
    "obj_df.columns"
   ]
  },
  {
   "cell_type": "code",
   "execution_count": 3,
   "metadata": {},
   "outputs": [],
   "source": [
    "label_encoder = LabelEncoder()"
   ]
  },
  {
   "cell_type": "code",
   "execution_count": 5,
   "metadata": {},
   "outputs": [],
   "source": [
    "new_df['Ethnicity']= label_encoder.fit_transform(new_df['Ethnicity'])\n",
    "new_df['Educational_Level']= label_encoder.fit_transform(new_df['Educational_Level'])\n",
    "new_df['Income']= label_encoder.fit_transform(new_df['Income'])                                                        \n",
    "new_df['Country_region']= label_encoder.fit_transform(new_df['Country_region'])\n",
    "new_df['Hotel_Type']= label_encoder.fit_transform(new_df['Hotel_Type'])\n",
    "new_df['Meal_Type']= label_encoder.fit_transform(new_df['Meal_Type'])\n",
    "#new_df['Visted_Previously']= label_encoder.fit_transform(new_df['Visted_Previously'])\n",
    "#new_df['Previous_Cancellations']= label_encoder.fit_transform(new_df[ 'Previous_Cancellations'])\n",
    "new_df['Deposit_type']= label_encoder.fit_transform(new_df['Deposit_type'])\n",
    "new_df['Booking_channel']= label_encoder.fit_transform(new_df['Booking_channel'])\n",
    "new_df['Required_Car_Parking']= label_encoder.fit_transform(new_df['Required_Car_Parking'])\n",
    "new_df['Reservation_Status']= label_encoder.fit_transform(new_df['Reservation_Status'])\n",
    "#new_df['Use_Promotion']= label_encoder.fit_transform(new_df['Use_Promotion'])"
   ]
  },
  {
   "cell_type": "code",
   "execution_count": 4,
   "metadata": {},
   "outputs": [],
   "source": [
    "#Drop unnecessary variables\n",
    "new_df = df.drop(['Reservation-id','Gender','Expected_checkin','Expected_checkout','Booking_date','Final Rate','Previous_Cancellations','Use_Promotion','Visted_Previously'],\n",
    "                 axis=1)"
   ]
  },
  {
   "cell_type": "code",
   "execution_count": 65,
   "metadata": {},
   "outputs": [],
   "source": [
    "x_train = new_df.drop(['Reservation_Status'], axis=1)"
   ]
  },
  {
   "cell_type": "code",
   "execution_count": 66,
   "metadata": {},
   "outputs": [],
   "source": [
    "y_train = new_df['Reservation_Status']\n",
    "y_train = y_train+1"
   ]
  },
  {
   "cell_type": "code",
   "execution_count": 64,
   "metadata": {},
   "outputs": [
    {
     "data": {
      "text/plain": [
       "<bound method Series.unique of 0        2\n",
       "1        2\n",
       "2        2\n",
       "3        2\n",
       "4        2\n",
       "        ..\n",
       "27494    2\n",
       "27495    3\n",
       "27496    2\n",
       "27497    1\n",
       "27498    3\n",
       "Name: Reservation_Status, Length: 27499, dtype: int32>"
      ]
     },
     "execution_count": 64,
     "metadata": {},
     "output_type": "execute_result"
    }
   ],
   "source": [
    "y_train.unique"
   ]
  },
  {
   "cell_type": "code",
   "execution_count": 8,
   "metadata": {},
   "outputs": [
    {
     "data": {
      "text/plain": [
       "Index(['Reservation-id', 'Gender', 'Age', 'Ethnicity', 'Educational_Level',\n",
       "       'Income', 'Country_region', 'Hotel_Type', 'Expected_checkin',\n",
       "       'Expected_checkout', 'Booking_date',\n",
       "       'time between booking date and check in date', 'time of stay', 'Adults',\n",
       "       'Children', 'Babies', 'Meal_Type', 'Visted_Previously',\n",
       "       'Previous_Cancellations', 'Deposit_type', 'Booking_channel',\n",
       "       'Required_Car_Parking', 'Reservation_Status', 'Use_Promotion',\n",
       "       'Discount_Rate', 'Room_Rate'],\n",
       "      dtype='object')"
      ]
     },
     "execution_count": 8,
     "metadata": {},
     "output_type": "execute_result"
    }
   ],
   "source": [
    "val = pd.read_csv('D:\\\\Data Storm 2.0\\\\Hotel-A-validation.csv')\n",
    "val.columns"
   ]
  },
  {
   "cell_type": "code",
   "execution_count": 9,
   "metadata": {},
   "outputs": [],
   "source": [
    "#label encoding the variables in the validation set\n",
    "val['Ethnicity']= label_encoder.fit_transform(val['Ethnicity'])\n",
    "val['Educational_Level']= label_encoder.fit_transform(val['Educational_Level'])\n",
    "val['Income']= label_encoder.fit_transform(val['Income'])                                                        \n",
    "val['Country_region']= label_encoder.fit_transform(val['Country_region'])\n",
    "val['Hotel_Type']= label_encoder.fit_transform(val['Hotel_Type'])\n",
    "val['Meal_Type']= label_encoder.fit_transform(val['Meal_Type'])\n",
    "val['Visted_Previously']= label_encoder.fit_transform(val['Visted_Previously'])\n",
    "val['Previous_Cancellations']= label_encoder.fit_transform(val[ 'Previous_Cancellations'])\n",
    "val['Deposit_type']= label_encoder.fit_transform(val['Deposit_type'])\n",
    "val['Booking_channel']= label_encoder.fit_transform(val['Booking_channel'])\n",
    "val['Required_Car_Parking']= label_encoder.fit_transform(val['Required_Car_Parking'])\n",
    "val['Reservation_Status']= label_encoder.fit_transform(val['Reservation_Status'])\n",
    "val['Use_Promotion']= label_encoder.fit_transform(val['Use_Promotion'])"
   ]
  },
  {
   "cell_type": "code",
   "execution_count": 67,
   "metadata": {},
   "outputs": [],
   "source": [
    "x_val = val.drop(['Reservation-id','Gender','Expected_checkin','Expected_checkout','Booking_date','Previous_Cancellations','Use_Promotion','Visted_Previously',\n",
    "                 'Reservation_Status'], axis=1)\n",
    "y_val = val['Reservation_Status']"
   ]
  },
  {
   "cell_type": "code",
   "execution_count": 11,
   "metadata": {},
   "outputs": [],
   "source": [
    "y_val = y_val+1"
   ]
  },
  {
   "cell_type": "code",
   "execution_count": 12,
   "metadata": {},
   "outputs": [
    {
     "data": {
      "text/plain": [
       "0    3\n",
       "1    1\n",
       "2    1\n",
       "3    2\n",
       "4    2\n",
       "Name: Reservation_Status, dtype: int32"
      ]
     },
     "execution_count": 12,
     "metadata": {},
     "output_type": "execute_result"
    }
   ],
   "source": [
    "y_val.head()"
   ]
  },
  {
   "cell_type": "markdown",
   "metadata": {},
   "source": [
    "DECISION TREE CLASSIFIER"
   ]
  },
  {
   "cell_type": "code",
   "execution_count": 68,
   "metadata": {},
   "outputs": [],
   "source": [
    "clf = tree.DecisionTreeClassifier()\n",
    "clf = clf.fit(x_train, y_train)\n",
    "y_pred_tree = clf.predict(x_val)"
   ]
  },
  {
   "cell_type": "code",
   "execution_count": 69,
   "metadata": {},
   "outputs": [
    {
     "data": {
      "text/plain": [
       "0.1979234292050526"
      ]
     },
     "execution_count": 69,
     "metadata": {},
     "output_type": "execute_result"
    }
   ],
   "source": [
    "dt_f1_score = f1_score(y_val, y_pred_tree, average='weighted')\n",
    "dt_f1_score"
   ]
  },
  {
   "cell_type": "code",
   "execution_count": 19,
   "metadata": {},
   "outputs": [],
   "source": [
    "### Fitting XGBoost Model\n",
    "xgb = XGBClassifier(learning_rate=0.3775, max_depth=5, n_estimators=100, random_state=2)\n",
    "xgb.fit(x_train,y_train)\n",
    "\n",
    "## Making predctions\n",
    "xgb_predict = xgb.predict(x_val)\n"
   ]
  },
  {
   "cell_type": "code",
   "execution_count": 20,
   "metadata": {},
   "outputs": [
    {
     "name": "stdout",
     "output_type": "stream",
     "text": [
      "0.43733684143945756\n"
     ]
    }
   ],
   "source": [
    "## F1 Score\n",
    "xgb_fscore = f1_score(y_val,xgb_predict,average='weighted')\n",
    "print(xgb_fscore)"
   ]
  },
  {
   "cell_type": "code",
   "execution_count": 15,
   "metadata": {},
   "outputs": [],
   "source": [
    "#### Parameter tuning\n",
    "params_grid = {\n",
    "    'max_depth':[1,2,3,4,5,6],\n",
    "    'n_estimators':[5,10,25,50,100],\n",
    "    'learning_rate': np.linspace(0.01,0.5,num=8,endpoint=False)\n",
    "}"
   ]
  },
  {
   "cell_type": "code",
   "execution_count": 16,
   "metadata": {},
   "outputs": [],
   "source": [
    "params_fixd = {\n",
    "    'objective': 'multi:softmax',\n",
    "}"
   ]
  },
  {
   "cell_type": "code",
   "execution_count": 17,
   "metadata": {},
   "outputs": [],
   "source": [
    "best_grid = GridSearchCV(\n",
    "    estimator=XGBClassifier(**params_fixd,random_state=2),\n",
    "#    estimator=GradientBoostingClassifier(random_state=2),\n",
    "#    estimator=AdaBoostClassifier(random_state=2),\n",
    "    param_grid = params_grid,\n",
    "    scoring='f1_weighted'\n",
    ")"
   ]
  },
  {
   "cell_type": "code",
   "execution_count": 18,
   "metadata": {},
   "outputs": [
    {
     "name": "stdout",
     "output_type": "stream",
     "text": [
      "0.6738298066349822 {'learning_rate': 0.3775, 'max_depth': 5, 'n_estimators': 100}\n"
     ]
    }
   ],
   "source": [
    "## Parameter tuning for extreme gradient boosting XGBoost\n",
    "best_grid.fit(x_train,y_train)\n",
    "print(best_grid.best_score_,best_grid.best_params_)"
   ]
  },
  {
   "cell_type": "code",
   "execution_count": 33,
   "metadata": {},
   "outputs": [],
   "source": [
    "#loading the test set\n",
    "test = pd.read_csv('D:\\\\Data Storm 2.0\\\\Hotel-A-test.csv')"
   ]
  },
  {
   "cell_type": "code",
   "execution_count": 34,
   "metadata": {},
   "outputs": [],
   "source": [
    "test['Ethnicity']= label_encoder.fit_transform(test['Ethnicity'])\n",
    "test['Educational_Level']= label_encoder.fit_transform(test['Educational_Level'])\n",
    "test['Income']= label_encoder.fit_transform(test['Income'])                                                        \n",
    "test['Country_region']= label_encoder.fit_transform(test['Country_region'])\n",
    "test['Hotel_Type']= label_encoder.fit_transform(test['Hotel_Type'])\n",
    "test['Meal_Type']= label_encoder.fit_transform(test['Meal_Type'])\n",
    "test['Visted_Previously']= label_encoder.fit_transform(test['Visted_Previously'])\n",
    "test['Previous_Cancellations']= label_encoder.fit_transform(test[ 'Previous_Cancellations'])\n",
    "test['Deposit_type']= label_encoder.fit_transform(test['Deposit_type'])\n",
    "test['Booking_channel']= label_encoder.fit_transform(test['Booking_channel'])\n",
    "test['Required_Car_Parking']= label_encoder.fit_transform(test['Required_Car_Parking'])\n",
    "#test['Reservation_Status']= label_encoder.fit_transform(test['Reservation_Status'])\n",
    "test['Use_Promotion']= label_encoder.fit_transform(test['Use_Promotion'])"
   ]
  },
  {
   "cell_type": "code",
   "execution_count": 35,
   "metadata": {},
   "outputs": [],
   "source": [
    "x_test = test.drop(['Reservation-id','Gender','Expected_checkin','Expected_checkout','Booking_date','Use_Promotion','Previous_Cancellations','Visted_Previously'],axis=1)"
   ]
  },
  {
   "cell_type": "code",
   "execution_count": 36,
   "metadata": {},
   "outputs": [],
   "source": [
    "y_test = xgb.predict(x_test)"
   ]
  },
  {
   "cell_type": "code",
   "execution_count": 48,
   "metadata": {},
   "outputs": [
    {
     "data": {
      "text/html": [
       "<div>\n",
       "<style scoped>\n",
       "    .dataframe tbody tr th:only-of-type {\n",
       "        vertical-align: middle;\n",
       "    }\n",
       "\n",
       "    .dataframe tbody tr th {\n",
       "        vertical-align: top;\n",
       "    }\n",
       "\n",
       "    .dataframe thead th {\n",
       "        text-align: right;\n",
       "    }\n",
       "</style>\n",
       "<table border=\"1\" class=\"dataframe\">\n",
       "  <thead>\n",
       "    <tr style=\"text-align: right;\">\n",
       "      <th></th>\n",
       "      <th>Reservation_Status</th>\n",
       "      <th>Reservation-id</th>\n",
       "    </tr>\n",
       "  </thead>\n",
       "  <tbody>\n",
       "    <tr>\n",
       "      <th>4313</th>\n",
       "      <td>2</td>\n",
       "      <td>39110574</td>\n",
       "    </tr>\n",
       "    <tr>\n",
       "      <th>4314</th>\n",
       "      <td>2</td>\n",
       "      <td>5496554</td>\n",
       "    </tr>\n",
       "    <tr>\n",
       "      <th>4315</th>\n",
       "      <td>2</td>\n",
       "      <td>59004046</td>\n",
       "    </tr>\n",
       "    <tr>\n",
       "      <th>4316</th>\n",
       "      <td>2</td>\n",
       "      <td>65838682</td>\n",
       "    </tr>\n",
       "    <tr>\n",
       "      <th>4317</th>\n",
       "      <td>1</td>\n",
       "      <td>14474101</td>\n",
       "    </tr>\n",
       "  </tbody>\n",
       "</table>\n",
       "</div>"
      ],
      "text/plain": [
       "      Reservation_Status  Reservation-id\n",
       "4313                   2        39110574\n",
       "4314                   2         5496554\n",
       "4315                   2        59004046\n",
       "4316                   2        65838682\n",
       "4317                   1        14474101"
      ]
     },
     "execution_count": 48,
     "metadata": {},
     "output_type": "execute_result"
    }
   ],
   "source": [
    "test_df.tail()"
   ]
  },
  {
   "cell_type": "code",
   "execution_count": 37,
   "metadata": {},
   "outputs": [],
   "source": [
    "test_df = pd.DataFrame(y_test, columns = ['Reservation_Status'])"
   ]
  },
  {
   "cell_type": "code",
   "execution_count": 38,
   "metadata": {},
   "outputs": [],
   "source": [
    "test_df['Reservation-id'] = test['Reservation-id']"
   ]
  },
  {
   "cell_type": "code",
   "execution_count": 39,
   "metadata": {},
   "outputs": [],
   "source": [
    "column_titles = ['Reservation-id','Reservation_Status']\n",
    "test_results1 = test_df.reindex(columns=column_titles)"
   ]
  },
  {
   "cell_type": "code",
   "execution_count": 40,
   "metadata": {},
   "outputs": [
    {
     "data": {
      "text/html": [
       "<div>\n",
       "<style scoped>\n",
       "    .dataframe tbody tr th:only-of-type {\n",
       "        vertical-align: middle;\n",
       "    }\n",
       "\n",
       "    .dataframe tbody tr th {\n",
       "        vertical-align: top;\n",
       "    }\n",
       "\n",
       "    .dataframe thead th {\n",
       "        text-align: right;\n",
       "    }\n",
       "</style>\n",
       "<table border=\"1\" class=\"dataframe\">\n",
       "  <thead>\n",
       "    <tr style=\"text-align: right;\">\n",
       "      <th></th>\n",
       "      <th>Reservation-id</th>\n",
       "      <th>Reservation_Status</th>\n",
       "    </tr>\n",
       "  </thead>\n",
       "  <tbody>\n",
       "    <tr>\n",
       "      <th>0</th>\n",
       "      <td>62931593</td>\n",
       "      <td>2</td>\n",
       "    </tr>\n",
       "    <tr>\n",
       "      <th>1</th>\n",
       "      <td>70586099</td>\n",
       "      <td>2</td>\n",
       "    </tr>\n",
       "    <tr>\n",
       "      <th>2</th>\n",
       "      <td>4230648</td>\n",
       "      <td>2</td>\n",
       "    </tr>\n",
       "    <tr>\n",
       "      <th>3</th>\n",
       "      <td>25192322</td>\n",
       "      <td>2</td>\n",
       "    </tr>\n",
       "    <tr>\n",
       "      <th>4</th>\n",
       "      <td>80931528</td>\n",
       "      <td>2</td>\n",
       "    </tr>\n",
       "  </tbody>\n",
       "</table>\n",
       "</div>"
      ],
      "text/plain": [
       "   Reservation-id  Reservation_Status\n",
       "0        62931593                   2\n",
       "1        70586099                   2\n",
       "2         4230648                   2\n",
       "3        25192322                   2\n",
       "4        80931528                   2"
      ]
     },
     "execution_count": 40,
     "metadata": {},
     "output_type": "execute_result"
    }
   ],
   "source": [
    "test_results1.head()"
   ]
  },
  {
   "cell_type": "code",
   "execution_count": 41,
   "metadata": {},
   "outputs": [],
   "source": [
    "test_results1.to_csv('submission_2.csv')"
   ]
  },
  {
   "cell_type": "markdown",
   "metadata": {},
   "source": [
    "DAY 2 - NAIVE BAYES ALGORITHM"
   ]
  },
  {
   "cell_type": "code",
   "execution_count": 14,
   "metadata": {},
   "outputs": [],
   "source": [
    "gnb = GaussianNB()"
   ]
  },
  {
   "cell_type": "code",
   "execution_count": 15,
   "metadata": {},
   "outputs": [
    {
     "data": {
      "text/plain": [
       "GaussianNB()"
      ]
     },
     "execution_count": 15,
     "metadata": {},
     "output_type": "execute_result"
    }
   ],
   "source": [
    "gnb.fit(x_train, y_train)"
   ]
  },
  {
   "cell_type": "code",
   "execution_count": 16,
   "metadata": {},
   "outputs": [],
   "source": [
    "y_pred_NB = gnb.predict(x_val)"
   ]
  },
  {
   "cell_type": "code",
   "execution_count": 17,
   "metadata": {},
   "outputs": [],
   "source": [
    "nb_fscore = f1_score(y_val, y_pred_NB, average='weighted')"
   ]
  },
  {
   "cell_type": "code",
   "execution_count": 18,
   "metadata": {},
   "outputs": [
    {
     "data": {
      "text/plain": [
       "0.43263349387055267"
      ]
     },
     "execution_count": 18,
     "metadata": {},
     "output_type": "execute_result"
    }
   ],
   "source": [
    "nb_fscore"
   ]
  },
  {
   "cell_type": "markdown",
   "metadata": {},
   "source": [
    "#hyper parameter tuning for decision tree classifier"
   ]
  },
  {
   "cell_type": "code",
   "execution_count": 23,
   "metadata": {},
   "outputs": [],
   "source": [
    "param_grid = {\n",
    "    \"criterion\":['gini','entropy'],\n",
    "    \"max_depth\":range(1,10),\n",
    "    \"min_samples_split\":range(1,10),\n",
    "    \"min_samples_leaf\":range(1,5)\n",
    "    \n",
    "}"
   ]
  },
  {
   "cell_type": "code",
   "execution_count": 24,
   "metadata": {},
   "outputs": [],
   "source": [
    "grid_search = GridSearchCV(clf,\n",
    "                          cv=10,\n",
    "                          param_grid=param_grid,\n",
    "                          verbose=1,\n",
    "                          n_jobs=-1,\n",
    "                          scoring='f1_weighted')"
   ]
  },
  {
   "cell_type": "code",
   "execution_count": 26,
   "metadata": {},
   "outputs": [
    {
     "name": "stdout",
     "output_type": "stream",
     "text": [
      "Fitting 10 folds for each of 648 candidates, totalling 6480 fits\n"
     ]
    },
    {
     "name": "stderr",
     "output_type": "stream",
     "text": [
      "[Parallel(n_jobs=-1)]: Using backend LokyBackend with 8 concurrent workers.\n",
      "[Parallel(n_jobs=-1)]: Done  34 tasks      | elapsed:    5.9s\n",
      "[Parallel(n_jobs=-1)]: Done 443 tasks      | elapsed:    9.4s\n",
      "[Parallel(n_jobs=-1)]: Done 1443 tasks      | elapsed:   21.2s\n",
      "[Parallel(n_jobs=-1)]: Done 2843 tasks      | elapsed:   48.8s\n",
      "[Parallel(n_jobs=-1)]: Done 4643 tasks      | elapsed:  1.2min\n",
      "[Parallel(n_jobs=-1)]: Done 6480 out of 6480 | elapsed:  1.9min finished\n"
     ]
    },
    {
     "data": {
      "text/plain": [
       "GridSearchCV(cv=10, estimator=DecisionTreeClassifier(), n_jobs=-1,\n",
       "             param_grid={'criterion': ['gini', 'entropy'],\n",
       "                         'max_depth': range(1, 10),\n",
       "                         'min_samples_leaf': range(1, 5),\n",
       "                         'min_samples_split': range(1, 10)},\n",
       "             scoring='f1_weighted', verbose=1)"
      ]
     },
     "execution_count": 26,
     "metadata": {},
     "output_type": "execute_result"
    }
   ],
   "source": [
    "grid_search.fit(x_train,y_train)"
   ]
  },
  {
   "cell_type": "code",
   "execution_count": 29,
   "metadata": {},
   "outputs": [
    {
     "data": {
      "text/plain": [
       "{'criterion': 'gini',\n",
       " 'max_depth': 7,\n",
       " 'min_samples_leaf': 2,\n",
       " 'min_samples_split': 4}"
      ]
     },
     "execution_count": 29,
     "metadata": {},
     "output_type": "execute_result"
    }
   ],
   "source": [
    "grid_search.best_params_"
   ]
  },
  {
   "cell_type": "code",
   "execution_count": 55,
   "metadata": {},
   "outputs": [
    {
     "data": {
      "text/plain": [
       "DecisionTreeClassifier(max_depth=7, min_samples_leaf=2, min_samples_split=4)"
      ]
     },
     "execution_count": 55,
     "metadata": {},
     "output_type": "execute_result"
    }
   ],
   "source": [
    "dt2 = tree.DecisionTreeClassifier(max_depth=7, min_samples_leaf=2, min_samples_split=4)\n",
    "dt2.fit(x_train,y_train)"
   ]
  },
  {
   "cell_type": "code",
   "execution_count": 56,
   "metadata": {
    "collapsed": true,
    "jupyter": {
     "outputs_hidden": true
    }
   },
   "outputs": [
    {
     "name": "stdout",
     "output_type": "stream",
     "text": [
      "0.04375577696155697\n"
     ]
    }
   ],
   "source": [
    "y_new_dt = dt2.predict(x_val)\n",
    "print(f1_score(y_val,y_new_dt,average='weighted'))"
   ]
  },
  {
   "cell_type": "code",
   "execution_count": 57,
   "metadata": {},
   "outputs": [],
   "source": [
    "#Adaboost\n",
    "ada = AdaBoostClassifier()\n",
    "ada.fit(x_train, y_train)\n",
    "\n",
    "y_ada_pred = ada.predict(x_val)"
   ]
  },
  {
   "cell_type": "code",
   "execution_count": 58,
   "metadata": {
    "collapsed": true,
    "jupyter": {
     "outputs_hidden": true
    }
   },
   "outputs": [
    {
     "name": "stdout",
     "output_type": "stream",
     "text": [
      "0.03662053266502548\n"
     ]
    }
   ],
   "source": [
    "print(f1_score(y_val,y_ada_pred,average='weighted'))"
   ]
  },
  {
   "cell_type": "code",
   "execution_count": null,
   "metadata": {},
   "outputs": [],
   "source": [
    "#KNN Classification"
   ]
  },
  {
   "cell_type": "code",
   "execution_count": 59,
   "metadata": {},
   "outputs": [
    {
     "data": {
      "text/plain": [
       "KNeighborsClassifier()"
      ]
     },
     "execution_count": 59,
     "metadata": {},
     "output_type": "execute_result"
    }
   ],
   "source": [
    "from sklearn.neighbors import KNeighborsClassifier\n",
    "classifier = KNeighborsClassifier(n_neighbors=5)\n",
    "classifier.fit(x_train, y_train)"
   ]
  },
  {
   "cell_type": "code",
   "execution_count": 60,
   "metadata": {},
   "outputs": [],
   "source": [
    "y_pred_knn = classifier.predict(x_val)"
   ]
  },
  {
   "cell_type": "code",
   "execution_count": 61,
   "metadata": {},
   "outputs": [
    {
     "name": "stdout",
     "output_type": "stream",
     "text": [
      "0.1141185455773966\n"
     ]
    }
   ],
   "source": [
    "print(f1_score(y_val, y_pred_knn, average='weighted'))"
   ]
  }
 ],
 "metadata": {
  "kernelspec": {
   "display_name": "Python 3",
   "language": "python",
   "name": "python3"
  },
  "language_info": {
   "codemirror_mode": {
    "name": "ipython",
    "version": 3
   },
   "file_extension": ".py",
   "mimetype": "text/x-python",
   "name": "python",
   "nbconvert_exporter": "python",
   "pygments_lexer": "ipython3",
   "version": "3.7.3"
  }
 },
 "nbformat": 4,
 "nbformat_minor": 4
}
