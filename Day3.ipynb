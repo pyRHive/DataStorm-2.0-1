{
 "cells": [
  {
   "cell_type": "code",
   "execution_count": 1,
   "metadata": {
    "collapsed": true,
    "jupyter": {
     "outputs_hidden": true
    }
   },
   "outputs": [
    {
     "name": "stderr",
     "output_type": "stream",
     "text": [
      "C:\\Users\\DELL\\Anaconda3\\lib\\site-packages\\dask\\dataframe\\utils.py:15: FutureWarning: pandas.util.testing is deprecated. Use the functions in the public API at pandas.testing instead.\n",
      "  import pandas.util.testing as tm\n"
     ]
    }
   ],
   "source": [
    "import pandas as pd\n",
    "#import joblib\n",
    "from sklearn.preprocessing import LabelEncoder\n",
    "from xgboost import XGBClassifier\n",
    "from sklearn.model_selection import GridSearchCV\n",
    "from sklearn.metrics import f1_score\n",
    "import numpy as np\n",
    "from sklearn.naive_bayes import GaussianNB\n",
    "from sklearn import tree\n",
    "#from costcla.models import CostSensitiveDecisionTreeClassifier\n",
    "from sklearn.ensemble import AdaBoostClassifier\n",
    "from imblearn.over_sampling import SMOTE\n",
    "import math\n",
    "from sklearn.pipeline import Pipeline\n",
    "from sklearn.preprocessing import StandardScaler"
   ]
  },
  {
   "cell_type": "code",
   "execution_count": 2,
   "metadata": {},
   "outputs": [],
   "source": [
    "train = pd.read_csv('D:\\\\Data Storm 2.0\\\\Hotel-A-train.csv')\n",
    "validation = pd.read_csv('D:\\\\Data Storm 2.0\\\\Hotel-A-validation.csv')\n",
    "test = pd.read_csv('D:\\\\Data Storm 2.0\\\\Hotel-A-test.csv')"
   ]
  },
  {
   "cell_type": "code",
   "execution_count": 104,
   "metadata": {},
   "outputs": [
    {
     "data": {
      "text/plain": [
       "Index(['Reservation-id', 'Gender', 'Age', 'Ethnicity', 'Educational_Level',\n",
       "       'Income', 'Country_region', 'Hotel_Type', 'Expected_checkin',\n",
       "       'Expected_checkout', 'Booking_date',\n",
       "       'time between booking date and check in date', 'time of stay', 'Adults',\n",
       "       'Children', 'Babies', 'Meal_Type', 'Visted_Previously',\n",
       "       'Previous_Cancellations', 'Deposit_type', 'Booking_channel',\n",
       "       'Required_Car_Parking', 'Reservation_Status', 'Use_Promotion',\n",
       "       'Discount_Rate', 'Room_Rate', 'Final_Room_Rate', 'Rooms_booked',\n",
       "       'Final_rate'],\n",
       "      dtype='object')"
      ]
     },
     "execution_count": 104,
     "metadata": {},
     "output_type": "execute_result"
    }
   ],
   "source": [
    "train.columns"
   ]
  },
  {
   "cell_type": "code",
   "execution_count": 3,
   "metadata": {},
   "outputs": [],
   "source": [
    "#Creating new features --> Number of rooms booked\n",
    "people = train['Adults']+train['Children']\n",
    "rooms= people/5\n",
    "train['Rooms_booked'] = np.ceil(rooms)"
   ]
  },
  {
   "cell_type": "code",
   "execution_count": 4,
   "metadata": {},
   "outputs": [],
   "source": [
    "#Creating new features --> Number of rooms booked\n",
    "people2 = validation['Adults']+validation['Children']\n",
    "rooms2 = people2/5\n",
    "validation['Rooms_booked'] = np.ceil(rooms2)\n",
    "\n",
    "#Creating new features --> Number of rooms booked\n",
    "people3 = test['Adults']+test['Children']\n",
    "rooms3 = people3/5\n",
    "test['Rooms_booked'] = np.ceil(rooms3)"
   ]
  },
  {
   "cell_type": "code",
   "execution_count": 5,
   "metadata": {},
   "outputs": [],
   "source": [
    "#Creating feature final room rate\n",
    "train['Final_Room_Rate'] = train['Room_Rate'] - (train['Room_Rate']*(train['Discount_Rate']/100))\n",
    "validation['Final_Room_Rate'] = validation['Room_Rate'] - (validation['Room_Rate']*(validation['Discount_Rate']/100))\n",
    "test['Final_Room_Rate'] = test['Room_Rate'] - (test['Room_Rate']*(test['Discount_Rate']/100))"
   ]
  },
  {
   "cell_type": "code",
   "execution_count": 8,
   "metadata": {},
   "outputs": [],
   "source": [
    "#Creating feature Final Rate\n",
    "train['Final_rate'] = train['Final_Room_Rate']*train['Rooms_booked']*train['time of stay']\n",
    "validation['Final_rate'] = validation['Final_Room_Rate']*validation['Rooms_booked']*validation['time of stay']\n",
    "test['Final_rate'] = test['Final_Room_Rate']*test['Rooms_booked']*test['time of stay']"
   ]
  },
  {
   "cell_type": "code",
   "execution_count": 110,
   "metadata": {},
   "outputs": [
    {
     "data": {
      "text/html": [
       "<div>\n",
       "<style scoped>\n",
       "    .dataframe tbody tr th:only-of-type {\n",
       "        vertical-align: middle;\n",
       "    }\n",
       "\n",
       "    .dataframe tbody tr th {\n",
       "        vertical-align: top;\n",
       "    }\n",
       "\n",
       "    .dataframe thead th {\n",
       "        text-align: right;\n",
       "    }\n",
       "</style>\n",
       "<table border=\"1\" class=\"dataframe\">\n",
       "  <thead>\n",
       "    <tr style=\"text-align: right;\">\n",
       "      <th></th>\n",
       "      <th>Reservation-id</th>\n",
       "      <th>Gender</th>\n",
       "      <th>Age</th>\n",
       "      <th>Ethnicity</th>\n",
       "      <th>Educational_Level</th>\n",
       "      <th>Income</th>\n",
       "      <th>Country_region</th>\n",
       "      <th>Hotel_Type</th>\n",
       "      <th>Expected_checkin</th>\n",
       "      <th>Expected_checkout</th>\n",
       "      <th>...</th>\n",
       "      <th>Previous_Cancellations</th>\n",
       "      <th>Deposit_type</th>\n",
       "      <th>Booking_channel</th>\n",
       "      <th>Required_Car_Parking</th>\n",
       "      <th>Use_Promotion</th>\n",
       "      <th>Discount_Rate</th>\n",
       "      <th>Room_Rate</th>\n",
       "      <th>Rooms_booked</th>\n",
       "      <th>Final_Room_Rate</th>\n",
       "      <th>Final_rate</th>\n",
       "    </tr>\n",
       "  </thead>\n",
       "  <tbody>\n",
       "    <tr>\n",
       "      <th>0</th>\n",
       "      <td>62931593</td>\n",
       "      <td>0</td>\n",
       "      <td>52</td>\n",
       "      <td>2</td>\n",
       "      <td>1</td>\n",
       "      <td>0</td>\n",
       "      <td>2</td>\n",
       "      <td>1</td>\n",
       "      <td>11/18/2016</td>\n",
       "      <td>11/19/2016</td>\n",
       "      <td>...</td>\n",
       "      <td>0</td>\n",
       "      <td>0</td>\n",
       "      <td>1</td>\n",
       "      <td>1</td>\n",
       "      <td>1</td>\n",
       "      <td>10</td>\n",
       "      <td>153</td>\n",
       "      <td>2.0</td>\n",
       "      <td>137.70</td>\n",
       "      <td>275.40</td>\n",
       "    </tr>\n",
       "    <tr>\n",
       "      <th>1</th>\n",
       "      <td>70586099</td>\n",
       "      <td>0</td>\n",
       "      <td>47</td>\n",
       "      <td>2</td>\n",
       "      <td>1</td>\n",
       "      <td>0</td>\n",
       "      <td>0</td>\n",
       "      <td>0</td>\n",
       "      <td>11/18/2016</td>\n",
       "      <td>11/19/2016</td>\n",
       "      <td>...</td>\n",
       "      <td>0</td>\n",
       "      <td>0</td>\n",
       "      <td>2</td>\n",
       "      <td>0</td>\n",
       "      <td>0</td>\n",
       "      <td>0</td>\n",
       "      <td>210</td>\n",
       "      <td>1.0</td>\n",
       "      <td>210.00</td>\n",
       "      <td>210.00</td>\n",
       "    </tr>\n",
       "    <tr>\n",
       "      <th>2</th>\n",
       "      <td>4230648</td>\n",
       "      <td>0</td>\n",
       "      <td>28</td>\n",
       "      <td>1</td>\n",
       "      <td>1</td>\n",
       "      <td>2</td>\n",
       "      <td>0</td>\n",
       "      <td>1</td>\n",
       "      <td>4/28/2017</td>\n",
       "      <td>5/1/2017</td>\n",
       "      <td>...</td>\n",
       "      <td>0</td>\n",
       "      <td>0</td>\n",
       "      <td>0</td>\n",
       "      <td>0</td>\n",
       "      <td>1</td>\n",
       "      <td>5</td>\n",
       "      <td>117</td>\n",
       "      <td>1.0</td>\n",
       "      <td>111.15</td>\n",
       "      <td>333.45</td>\n",
       "    </tr>\n",
       "    <tr>\n",
       "      <th>3</th>\n",
       "      <td>25192322</td>\n",
       "      <td>0</td>\n",
       "      <td>65</td>\n",
       "      <td>3</td>\n",
       "      <td>2</td>\n",
       "      <td>0</td>\n",
       "      <td>2</td>\n",
       "      <td>0</td>\n",
       "      <td>11/18/2016</td>\n",
       "      <td>11/20/2016</td>\n",
       "      <td>...</td>\n",
       "      <td>0</td>\n",
       "      <td>0</td>\n",
       "      <td>2</td>\n",
       "      <td>1</td>\n",
       "      <td>1</td>\n",
       "      <td>10</td>\n",
       "      <td>107</td>\n",
       "      <td>1.0</td>\n",
       "      <td>96.30</td>\n",
       "      <td>192.60</td>\n",
       "    </tr>\n",
       "    <tr>\n",
       "      <th>4</th>\n",
       "      <td>80931528</td>\n",
       "      <td>1</td>\n",
       "      <td>45</td>\n",
       "      <td>0</td>\n",
       "      <td>0</td>\n",
       "      <td>0</td>\n",
       "      <td>2</td>\n",
       "      <td>1</td>\n",
       "      <td>11/18/2016</td>\n",
       "      <td>11/20/2016</td>\n",
       "      <td>...</td>\n",
       "      <td>0</td>\n",
       "      <td>2</td>\n",
       "      <td>0</td>\n",
       "      <td>0</td>\n",
       "      <td>0</td>\n",
       "      <td>0</td>\n",
       "      <td>119</td>\n",
       "      <td>1.0</td>\n",
       "      <td>119.00</td>\n",
       "      <td>238.00</td>\n",
       "    </tr>\n",
       "  </tbody>\n",
       "</table>\n",
       "<p>5 rows × 28 columns</p>\n",
       "</div>"
      ],
      "text/plain": [
       "   Reservation-id  Gender  Age  Ethnicity  Educational_Level  Income  \\\n",
       "0        62931593       0   52          2                  1       0   \n",
       "1        70586099       0   47          2                  1       0   \n",
       "2         4230648       0   28          1                  1       2   \n",
       "3        25192322       0   65          3                  2       0   \n",
       "4        80931528       1   45          0                  0       0   \n",
       "\n",
       "   Country_region  Hotel_Type Expected_checkin Expected_checkout  ...  \\\n",
       "0               2           1       11/18/2016        11/19/2016  ...   \n",
       "1               0           0       11/18/2016        11/19/2016  ...   \n",
       "2               0           1        4/28/2017          5/1/2017  ...   \n",
       "3               2           0       11/18/2016        11/20/2016  ...   \n",
       "4               2           1       11/18/2016        11/20/2016  ...   \n",
       "\n",
       "  Previous_Cancellations  Deposit_type  Booking_channel  Required_Car_Parking  \\\n",
       "0                      0             0                1                     1   \n",
       "1                      0             0                2                     0   \n",
       "2                      0             0                0                     0   \n",
       "3                      0             0                2                     1   \n",
       "4                      0             2                0                     0   \n",
       "\n",
       "   Use_Promotion  Discount_Rate  Room_Rate  Rooms_booked  Final_Room_Rate  \\\n",
       "0              1             10        153           2.0           137.70   \n",
       "1              0              0        210           1.0           210.00   \n",
       "2              1              5        117           1.0           111.15   \n",
       "3              1             10        107           1.0            96.30   \n",
       "4              0              0        119           1.0           119.00   \n",
       "\n",
       "   Final_rate  \n",
       "0      275.40  \n",
       "1      210.00  \n",
       "2      333.45  \n",
       "3      192.60  \n",
       "4      238.00  \n",
       "\n",
       "[5 rows x 28 columns]"
      ]
     },
     "execution_count": 110,
     "metadata": {},
     "output_type": "execute_result"
    }
   ],
   "source": [
    "test.head()"
   ]
  },
  {
   "cell_type": "code",
   "execution_count": 131,
   "metadata": {},
   "outputs": [
    {
     "data": {
      "text/html": [
       "<div>\n",
       "<style scoped>\n",
       "    .dataframe tbody tr th:only-of-type {\n",
       "        vertical-align: middle;\n",
       "    }\n",
       "\n",
       "    .dataframe tbody tr th {\n",
       "        vertical-align: top;\n",
       "    }\n",
       "\n",
       "    .dataframe thead th {\n",
       "        text-align: right;\n",
       "    }\n",
       "</style>\n",
       "<table border=\"1\" class=\"dataframe\">\n",
       "  <thead>\n",
       "    <tr style=\"text-align: right;\">\n",
       "      <th></th>\n",
       "      <th>Reservation-id</th>\n",
       "      <th>Gender</th>\n",
       "      <th>Age</th>\n",
       "      <th>Ethnicity</th>\n",
       "      <th>Educational_Level</th>\n",
       "      <th>Income</th>\n",
       "      <th>Country_region</th>\n",
       "      <th>Hotel_Type</th>\n",
       "      <th>Expected_checkin</th>\n",
       "      <th>Expected_checkout</th>\n",
       "      <th>...</th>\n",
       "      <th>Deposit_type</th>\n",
       "      <th>Booking_channel</th>\n",
       "      <th>Required_Car_Parking</th>\n",
       "      <th>Reservation_Status</th>\n",
       "      <th>Use_Promotion</th>\n",
       "      <th>Discount_Rate</th>\n",
       "      <th>Room_Rate</th>\n",
       "      <th>Final_Room_Rate</th>\n",
       "      <th>Rooms_booked</th>\n",
       "      <th>Final_rate</th>\n",
       "    </tr>\n",
       "  </thead>\n",
       "  <tbody>\n",
       "    <tr>\n",
       "      <th>27494</th>\n",
       "      <td>15645505</td>\n",
       "      <td>0</td>\n",
       "      <td>49</td>\n",
       "      <td>0</td>\n",
       "      <td>3</td>\n",
       "      <td>2</td>\n",
       "      <td>3</td>\n",
       "      <td>1</td>\n",
       "      <td>8/31/2016</td>\n",
       "      <td>9/1/2016</td>\n",
       "      <td>...</td>\n",
       "      <td>0</td>\n",
       "      <td>2</td>\n",
       "      <td>1</td>\n",
       "      <td>1</td>\n",
       "      <td>1</td>\n",
       "      <td>10</td>\n",
       "      <td>100</td>\n",
       "      <td>90.0</td>\n",
       "      <td>1.0</td>\n",
       "      <td>90.0</td>\n",
       "    </tr>\n",
       "    <tr>\n",
       "      <th>27495</th>\n",
       "      <td>56414525</td>\n",
       "      <td>0</td>\n",
       "      <td>49</td>\n",
       "      <td>1</td>\n",
       "      <td>0</td>\n",
       "      <td>0</td>\n",
       "      <td>2</td>\n",
       "      <td>0</td>\n",
       "      <td>8/31/2016</td>\n",
       "      <td>9/1/2016</td>\n",
       "      <td>...</td>\n",
       "      <td>2</td>\n",
       "      <td>0</td>\n",
       "      <td>1</td>\n",
       "      <td>2</td>\n",
       "      <td>1</td>\n",
       "      <td>40</td>\n",
       "      <td>194</td>\n",
       "      <td>116.4</td>\n",
       "      <td>1.0</td>\n",
       "      <td>116.4</td>\n",
       "    </tr>\n",
       "    <tr>\n",
       "      <th>27496</th>\n",
       "      <td>52023375</td>\n",
       "      <td>0</td>\n",
       "      <td>49</td>\n",
       "      <td>2</td>\n",
       "      <td>2</td>\n",
       "      <td>1</td>\n",
       "      <td>2</td>\n",
       "      <td>0</td>\n",
       "      <td>9/1/2016</td>\n",
       "      <td>9/2/2016</td>\n",
       "      <td>...</td>\n",
       "      <td>0</td>\n",
       "      <td>1</td>\n",
       "      <td>1</td>\n",
       "      <td>1</td>\n",
       "      <td>1</td>\n",
       "      <td>5</td>\n",
       "      <td>202</td>\n",
       "      <td>191.9</td>\n",
       "      <td>1.0</td>\n",
       "      <td>191.9</td>\n",
       "    </tr>\n",
       "    <tr>\n",
       "      <th>27497</th>\n",
       "      <td>98041387</td>\n",
       "      <td>1</td>\n",
       "      <td>65</td>\n",
       "      <td>0</td>\n",
       "      <td>0</td>\n",
       "      <td>0</td>\n",
       "      <td>2</td>\n",
       "      <td>0</td>\n",
       "      <td>8/31/2016</td>\n",
       "      <td>9/1/2016</td>\n",
       "      <td>...</td>\n",
       "      <td>0</td>\n",
       "      <td>2</td>\n",
       "      <td>0</td>\n",
       "      <td>0</td>\n",
       "      <td>1</td>\n",
       "      <td>20</td>\n",
       "      <td>157</td>\n",
       "      <td>125.6</td>\n",
       "      <td>1.0</td>\n",
       "      <td>125.6</td>\n",
       "    </tr>\n",
       "    <tr>\n",
       "      <th>27498</th>\n",
       "      <td>55243988</td>\n",
       "      <td>0</td>\n",
       "      <td>48</td>\n",
       "      <td>3</td>\n",
       "      <td>0</td>\n",
       "      <td>0</td>\n",
       "      <td>1</td>\n",
       "      <td>2</td>\n",
       "      <td>8/31/2016</td>\n",
       "      <td>9/1/2016</td>\n",
       "      <td>...</td>\n",
       "      <td>0</td>\n",
       "      <td>2</td>\n",
       "      <td>0</td>\n",
       "      <td>2</td>\n",
       "      <td>0</td>\n",
       "      <td>0</td>\n",
       "      <td>210</td>\n",
       "      <td>210.0</td>\n",
       "      <td>1.0</td>\n",
       "      <td>210.0</td>\n",
       "    </tr>\n",
       "  </tbody>\n",
       "</table>\n",
       "<p>5 rows × 29 columns</p>\n",
       "</div>"
      ],
      "text/plain": [
       "       Reservation-id  Gender  Age  Ethnicity  Educational_Level  Income  \\\n",
       "27494        15645505       0   49          0                  3       2   \n",
       "27495        56414525       0   49          1                  0       0   \n",
       "27496        52023375       0   49          2                  2       1   \n",
       "27497        98041387       1   65          0                  0       0   \n",
       "27498        55243988       0   48          3                  0       0   \n",
       "\n",
       "       Country_region  Hotel_Type Expected_checkin Expected_checkout  ...  \\\n",
       "27494               3           1        8/31/2016          9/1/2016  ...   \n",
       "27495               2           0        8/31/2016          9/1/2016  ...   \n",
       "27496               2           0         9/1/2016          9/2/2016  ...   \n",
       "27497               2           0        8/31/2016          9/1/2016  ...   \n",
       "27498               1           2        8/31/2016          9/1/2016  ...   \n",
       "\n",
       "      Deposit_type  Booking_channel  Required_Car_Parking  Reservation_Status  \\\n",
       "27494            0                2                     1                   1   \n",
       "27495            2                0                     1                   2   \n",
       "27496            0                1                     1                   1   \n",
       "27497            0                2                     0                   0   \n",
       "27498            0                2                     0                   2   \n",
       "\n",
       "       Use_Promotion  Discount_Rate  Room_Rate  Final_Room_Rate  Rooms_booked  \\\n",
       "27494              1             10        100             90.0           1.0   \n",
       "27495              1             40        194            116.4           1.0   \n",
       "27496              1              5        202            191.9           1.0   \n",
       "27497              1             20        157            125.6           1.0   \n",
       "27498              0              0        210            210.0           1.0   \n",
       "\n",
       "       Final_rate  \n",
       "27494        90.0  \n",
       "27495       116.4  \n",
       "27496       191.9  \n",
       "27497       125.6  \n",
       "27498       210.0  \n",
       "\n",
       "[5 rows x 29 columns]"
      ]
     },
     "execution_count": 131,
     "metadata": {},
     "output_type": "execute_result"
    }
   ],
   "source": [
    "train.tail()"
   ]
  },
  {
   "cell_type": "code",
   "execution_count": 10,
   "metadata": {
    "collapsed": true,
    "jupyter": {
     "outputs_hidden": true
    }
   },
   "outputs": [
    {
     "data": {
      "text/html": [
       "<div>\n",
       "<style scoped>\n",
       "    .dataframe tbody tr th:only-of-type {\n",
       "        vertical-align: middle;\n",
       "    }\n",
       "\n",
       "    .dataframe tbody tr th {\n",
       "        vertical-align: top;\n",
       "    }\n",
       "\n",
       "    .dataframe thead th {\n",
       "        text-align: right;\n",
       "    }\n",
       "</style>\n",
       "<table border=\"1\" class=\"dataframe\">\n",
       "  <thead>\n",
       "    <tr style=\"text-align: right;\">\n",
       "      <th></th>\n",
       "      <th>Gender</th>\n",
       "      <th>Ethnicity</th>\n",
       "      <th>Educational_Level</th>\n",
       "      <th>Income</th>\n",
       "      <th>Country_region</th>\n",
       "      <th>Hotel_Type</th>\n",
       "      <th>Meal_Type</th>\n",
       "      <th>Visted_Previously</th>\n",
       "      <th>Previous_Cancellations</th>\n",
       "      <th>Deposit_type</th>\n",
       "      <th>Booking_channel</th>\n",
       "      <th>Required_Car_Parking</th>\n",
       "      <th>Reservation_Status</th>\n",
       "      <th>Use_Promotion</th>\n",
       "    </tr>\n",
       "  </thead>\n",
       "  <tbody>\n",
       "    <tr>\n",
       "      <th>27494</th>\n",
       "      <td>F</td>\n",
       "      <td>African American</td>\n",
       "      <td>Mid-School</td>\n",
       "      <td>&lt;25K</td>\n",
       "      <td>West</td>\n",
       "      <td>City Hotel</td>\n",
       "      <td>HB</td>\n",
       "      <td>Yes</td>\n",
       "      <td>Yes</td>\n",
       "      <td>No Deposit</td>\n",
       "      <td>Online</td>\n",
       "      <td>Yes</td>\n",
       "      <td>Check-In</td>\n",
       "      <td>Yes</td>\n",
       "    </tr>\n",
       "    <tr>\n",
       "      <th>27495</th>\n",
       "      <td>F</td>\n",
       "      <td>Asian American</td>\n",
       "      <td>College</td>\n",
       "      <td>25K --50K</td>\n",
       "      <td>South</td>\n",
       "      <td>Airport Hotels</td>\n",
       "      <td>BB</td>\n",
       "      <td>No</td>\n",
       "      <td>No</td>\n",
       "      <td>Refundable</td>\n",
       "      <td>Agent</td>\n",
       "      <td>Yes</td>\n",
       "      <td>No-Show</td>\n",
       "      <td>Yes</td>\n",
       "    </tr>\n",
       "    <tr>\n",
       "      <th>27496</th>\n",
       "      <td>F</td>\n",
       "      <td>Latino</td>\n",
       "      <td>High-School</td>\n",
       "      <td>50K -- 100K</td>\n",
       "      <td>South</td>\n",
       "      <td>Airport Hotels</td>\n",
       "      <td>HB</td>\n",
       "      <td>No</td>\n",
       "      <td>No</td>\n",
       "      <td>No Deposit</td>\n",
       "      <td>Direct</td>\n",
       "      <td>Yes</td>\n",
       "      <td>Check-In</td>\n",
       "      <td>Yes</td>\n",
       "    </tr>\n",
       "    <tr>\n",
       "      <th>27497</th>\n",
       "      <td>M</td>\n",
       "      <td>African American</td>\n",
       "      <td>College</td>\n",
       "      <td>25K --50K</td>\n",
       "      <td>South</td>\n",
       "      <td>Airport Hotels</td>\n",
       "      <td>FB</td>\n",
       "      <td>No</td>\n",
       "      <td>No</td>\n",
       "      <td>No Deposit</td>\n",
       "      <td>Online</td>\n",
       "      <td>No</td>\n",
       "      <td>Canceled</td>\n",
       "      <td>Yes</td>\n",
       "    </tr>\n",
       "    <tr>\n",
       "      <th>27498</th>\n",
       "      <td>F</td>\n",
       "      <td>caucasian</td>\n",
       "      <td>College</td>\n",
       "      <td>25K --50K</td>\n",
       "      <td>North</td>\n",
       "      <td>Resort</td>\n",
       "      <td>HB</td>\n",
       "      <td>No</td>\n",
       "      <td>No</td>\n",
       "      <td>No Deposit</td>\n",
       "      <td>Online</td>\n",
       "      <td>No</td>\n",
       "      <td>No-Show</td>\n",
       "      <td>No</td>\n",
       "    </tr>\n",
       "  </tbody>\n",
       "</table>\n",
       "</div>"
      ],
      "text/plain": [
       "      Gender         Ethnicity Educational_Level       Income Country_region  \\\n",
       "27494      F  African American        Mid-School         <25K           West   \n",
       "27495      F    Asian American           College    25K --50K          South   \n",
       "27496      F            Latino       High-School  50K -- 100K          South   \n",
       "27497      M  African American           College    25K --50K          South   \n",
       "27498      F         caucasian           College    25K --50K          North   \n",
       "\n",
       "           Hotel_Type Meal_Type Visted_Previously Previous_Cancellations  \\\n",
       "27494      City Hotel        HB               Yes                    Yes   \n",
       "27495  Airport Hotels        BB                No                     No   \n",
       "27496  Airport Hotels        HB                No                     No   \n",
       "27497  Airport Hotels        FB                No                     No   \n",
       "27498          Resort        HB                No                     No   \n",
       "\n",
       "      Deposit_type Booking_channel Required_Car_Parking Reservation_Status  \\\n",
       "27494   No Deposit          Online                  Yes           Check-In   \n",
       "27495   Refundable           Agent                  Yes            No-Show   \n",
       "27496   No Deposit          Direct                  Yes           Check-In   \n",
       "27497   No Deposit          Online                   No           Canceled   \n",
       "27498   No Deposit          Online                   No            No-Show   \n",
       "\n",
       "      Use_Promotion  \n",
       "27494           Yes  \n",
       "27495           Yes  \n",
       "27496           Yes  \n",
       "27497           Yes  \n",
       "27498            No  "
      ]
     },
     "execution_count": 10,
     "metadata": {},
     "output_type": "execute_result"
    }
   ],
   "source": [
    "#Obtaining a df of categorical variables to encode\n",
    "obj_df = train.select_dtypes(include=['object']).copy()\n",
    "obj_df = obj_df.drop(['Expected_checkin',\n",
    "       'Expected_checkout', 'Booking_date'],axis=1)\n",
    "obj_df.tail()"
   ]
  },
  {
   "cell_type": "code",
   "execution_count": 11,
   "metadata": {},
   "outputs": [],
   "source": [
    "#Label encoding the train set\n",
    "label = LabelEncoder()\n",
    "for col in obj_df.columns:\n",
    "    train[col] = label.fit_transform(train[col])\n",
    "    #return train"
   ]
  },
  {
   "cell_type": "code",
   "execution_count": 12,
   "metadata": {},
   "outputs": [],
   "source": [
    "#label encoding validation set\n",
    "for col in obj_df.columns:\n",
    "    validation[col] = label.fit_transform(validation[col])"
   ]
  },
  {
   "cell_type": "code",
   "execution_count": 14,
   "metadata": {},
   "outputs": [],
   "source": [
    "#Label encoding test set\n",
    "for col in obj_df.columns.drop('Reservation_Status'):\n",
    "    test[col] = label.fit_transform(test[col])\n",
    "    #return train"
   ]
  },
  {
   "cell_type": "code",
   "execution_count": 16,
   "metadata": {
    "collapsed": true,
    "jupyter": {
     "outputs_hidden": true,
     "source_hidden": true
    }
   },
   "outputs": [
    {
     "data": {
      "text/plain": [
       "Reservation-id                                   int64\n",
       "Gender                                           int32\n",
       "Age                                              int64\n",
       "Ethnicity                                        int32\n",
       "Educational_Level                                int32\n",
       "Income                                           int32\n",
       "Country_region                                   int32\n",
       "Hotel_Type                                       int32\n",
       "Expected_checkin                                object\n",
       "Expected_checkout                               object\n",
       "Booking_date                                    object\n",
       "time between booking date and check in date      int64\n",
       "time of stay                                     int64\n",
       "Adults                                           int64\n",
       "Children                                         int64\n",
       "Babies                                           int64\n",
       "Meal_Type                                        int32\n",
       "Visted_Previously                                int32\n",
       "Previous_Cancellations                           int32\n",
       "Deposit_type                                     int32\n",
       "Booking_channel                                  int32\n",
       "Required_Car_Parking                             int32\n",
       "Reservation_Status                               int32\n",
       "Use_Promotion                                    int32\n",
       "Discount_Rate                                    int64\n",
       "Room_Rate                                        int64\n",
       "Final_Room_Rate                                float64\n",
       "Rooms_booked                                   float64\n",
       "Final_rate                                     float64\n",
       "dtype: object"
      ]
     },
     "execution_count": 16,
     "metadata": {},
     "output_type": "execute_result"
    }
   ],
   "source": [
    "train.dtypes"
   ]
  },
  {
   "cell_type": "code",
   "execution_count": 17,
   "metadata": {},
   "outputs": [],
   "source": [
    "#Scaling the dataset using Standard Scaler\n",
    "standard = StandardScaler()\n",
    "#to_scale = train.select_dtypes(include=['int64','float64'])"
   ]
  },
  {
   "cell_type": "code",
   "execution_count": 31,
   "metadata": {},
   "outputs": [],
   "source": [
    "#Scaling the data in the train, validation and test sets\n",
    "train[['Age', 'time between booking date and check in date', 'time of stay','Adults', 'Children', 'Babies', 'Discount_Rate', 'Room_Rate',\n",
    "       'Final_Room_Rate', 'Rooms_booked', 'Final_rate']] = standard.fit_transform(train[['Age', 'time between booking date and check in date', 'time of stay',\n",
    "       'Adults', 'Children', 'Babies', 'Discount_Rate', 'Room_Rate',\n",
    "       'Final_Room_Rate', 'Rooms_booked', 'Final_rate']])\n",
    "\n",
    "validation[['Age', 'time between booking date and check in date', 'time of stay','Adults', 'Children', 'Babies', 'Discount_Rate', 'Room_Rate',\n",
    "       'Final_Room_Rate', 'Rooms_booked', 'Final_rate']] = standard.fit_transform(validation[['Age', 'time between booking date and check in date', 'time of stay',\n",
    "       'Adults', 'Children', 'Babies', 'Discount_Rate', 'Room_Rate',\n",
    "       'Final_Room_Rate', 'Rooms_booked', 'Final_rate']])"
   ]
  },
  {
   "cell_type": "code",
   "execution_count": 32,
   "metadata": {},
   "outputs": [],
   "source": [
    "#Splitting train set to x and y values\n",
    "x = train.drop(['Reservation_Status','Reservation-id','Expected_checkin',\n",
    "       'Expected_checkout', 'Booking_date','Final_Room_Rate','Rooms_booked'],axis=1)\n",
    "y = train['Reservation_Status']"
   ]
  },
  {
   "cell_type": "code",
   "execution_count": 33,
   "metadata": {},
   "outputs": [],
   "source": [
    "#Splitting validation set to x and y values\n",
    "x_val = validation.drop(['Reservation_Status','Reservation-id','Expected_checkin',\n",
    "       'Expected_checkout', 'Booking_date','Final_Room_Rate','Rooms_booked'],axis=1)\n",
    "y_val = validation['Reservation_Status']"
   ]
  },
  {
   "cell_type": "code",
   "execution_count": 34,
   "metadata": {},
   "outputs": [],
   "source": [
    "#dropping columns from test set\n",
    "x_test = test.drop(['Reservation-id','Expected_checkin',\n",
    "       'Expected_checkout', 'Booking_date','Final_Room_Rate','Rooms_booked'],axis=1)"
   ]
  },
  {
   "cell_type": "code",
   "execution_count": 35,
   "metadata": {},
   "outputs": [],
   "source": [
    "#Applying SMOTE sampling to the train set to balance the dataset\n",
    "smote = SMOTE()\n",
    "x_train, y_train = smote.fit_resample(x,y)"
   ]
  },
  {
   "cell_type": "code",
   "execution_count": 123,
   "metadata": {},
   "outputs": [],
   "source": [
    "clf = tree.DecisionTreeClassifier()\n",
    "clf = clf.fit(x_train, y_train)\n",
    "y_pred_tree = clf.predict(x_val)"
   ]
  },
  {
   "cell_type": "code",
   "execution_count": 124,
   "metadata": {
    "collapsed": true,
    "jupyter": {
     "outputs_hidden": true
    }
   },
   "outputs": [
    {
     "data": {
      "text/plain": [
       "0.42927571617536314"
      ]
     },
     "execution_count": 124,
     "metadata": {},
     "output_type": "execute_result"
    }
   ],
   "source": [
    "dt_f1_score = f1_score(y_val, y_pred_tree, average='weighted')\n",
    "dt_f1_score"
   ]
  },
  {
   "cell_type": "code",
   "execution_count": 36,
   "metadata": {},
   "outputs": [],
   "source": [
    "### Fitting XGBoost Model\n",
    "xgb = XGBClassifier(random_state=2)\n",
    "xgb.fit(x_train,y_train)\n",
    "\n",
    "## Making predctions\n",
    "xgb_predict = xgb.predict(x_val)\n"
   ]
  },
  {
   "cell_type": "code",
   "execution_count": 37,
   "metadata": {
    "collapsed": true,
    "jupyter": {
     "outputs_hidden": true
    }
   },
   "outputs": [
    {
     "name": "stdout",
     "output_type": "stream",
     "text": [
      "0.1394483387496824\n"
     ]
    }
   ],
   "source": [
    "## F1 Score\n",
    "xgb_fscore = f1_score(y_val,xgb_predict,average='weighted')\n",
    "print(xgb_fscore)"
   ]
  },
  {
   "cell_type": "code",
   "execution_count": 132,
   "metadata": {},
   "outputs": [],
   "source": [
    "#### Parameter tuning\n",
    "params_grid = {\n",
    "    'max_depth':[1,2,3,4,5,6],\n",
    "    'n_estimators':[5,10,25,50,100],\n",
    "    'learning_rate': np.linspace(0.01,0.5,num=8,endpoint=False)\n",
    "}"
   ]
  },
  {
   "cell_type": "code",
   "execution_count": 133,
   "metadata": {},
   "outputs": [],
   "source": [
    "params_fixd = {\n",
    "    'objective': 'multi:softmax',\n",
    "}"
   ]
  },
  {
   "cell_type": "code",
   "execution_count": 134,
   "metadata": {},
   "outputs": [],
   "source": [
    "best_grid = GridSearchCV(\n",
    "    estimator=XGBClassifier(**params_fixd,random_state=2),\n",
    "#    estimator=GradientBoostingClassifier(random_state=2),\n",
    "#    estimator=AdaBoostClassifier(random_state=2),\n",
    "    param_grid = params_grid,\n",
    "    scoring='f1_weighted'\n",
    ")"
   ]
  },
  {
   "cell_type": "code",
   "execution_count": null,
   "metadata": {},
   "outputs": [],
   "source": [
    "## Parameter tuning for extreme gradient boosting XGBoost\n",
    "best_grid.fit(x_train,y_train)\n",
    "print(best_grid.best_score_,best_grid.best_params_)"
   ]
  },
  {
   "cell_type": "code",
   "execution_count": 125,
   "metadata": {},
   "outputs": [],
   "source": [
    "y_test3 = xgb.predict(x_test)"
   ]
  },
  {
   "cell_type": "code",
   "execution_count": 126,
   "metadata": {},
   "outputs": [
    {
     "data": {
      "text/plain": [
       "array([1, 2, 2, ..., 0, 1, 0], dtype=int64)"
      ]
     },
     "execution_count": 126,
     "metadata": {},
     "output_type": "execute_result"
    }
   ],
   "source": [
    "y_test3"
   ]
  },
  {
   "cell_type": "code",
   "execution_count": 127,
   "metadata": {},
   "outputs": [],
   "source": [
    "test_df = pd.DataFrame(y_test3, columns = ['Reservation_Status'])\n",
    "test_df['Reservation-id'] = test['Reservation-id']\n",
    "column_titles = ['Reservation-id','Reservation_Status']\n",
    "test_df = test_df.reindex(columns=column_titles)"
   ]
  },
  {
   "cell_type": "code",
   "execution_count": 129,
   "metadata": {},
   "outputs": [
    {
     "data": {
      "text/html": [
       "<div>\n",
       "<style scoped>\n",
       "    .dataframe tbody tr th:only-of-type {\n",
       "        vertical-align: middle;\n",
       "    }\n",
       "\n",
       "    .dataframe tbody tr th {\n",
       "        vertical-align: top;\n",
       "    }\n",
       "\n",
       "    .dataframe thead th {\n",
       "        text-align: right;\n",
       "    }\n",
       "</style>\n",
       "<table border=\"1\" class=\"dataframe\">\n",
       "  <thead>\n",
       "    <tr style=\"text-align: right;\">\n",
       "      <th></th>\n",
       "      <th>Reservation-id</th>\n",
       "      <th>Reservation_Status</th>\n",
       "    </tr>\n",
       "  </thead>\n",
       "  <tbody>\n",
       "    <tr>\n",
       "      <th>4313</th>\n",
       "      <td>39110574</td>\n",
       "      <td>1</td>\n",
       "    </tr>\n",
       "    <tr>\n",
       "      <th>4314</th>\n",
       "      <td>5496554</td>\n",
       "      <td>1</td>\n",
       "    </tr>\n",
       "    <tr>\n",
       "      <th>4315</th>\n",
       "      <td>59004046</td>\n",
       "      <td>0</td>\n",
       "    </tr>\n",
       "    <tr>\n",
       "      <th>4316</th>\n",
       "      <td>65838682</td>\n",
       "      <td>1</td>\n",
       "    </tr>\n",
       "    <tr>\n",
       "      <th>4317</th>\n",
       "      <td>14474101</td>\n",
       "      <td>0</td>\n",
       "    </tr>\n",
       "  </tbody>\n",
       "</table>\n",
       "</div>"
      ],
      "text/plain": [
       "      Reservation-id  Reservation_Status\n",
       "4313        39110574                   1\n",
       "4314         5496554                   1\n",
       "4315        59004046                   0\n",
       "4316        65838682                   1\n",
       "4317        14474101                   0"
      ]
     },
     "execution_count": 129,
     "metadata": {},
     "output_type": "execute_result"
    }
   ],
   "source": [
    "test_df.tail()"
   ]
  },
  {
   "cell_type": "code",
   "execution_count": 130,
   "metadata": {},
   "outputs": [],
   "source": [
    "test_df.to_csv('submission_3.csv')"
   ]
  }
 ],
 "metadata": {
  "kernelspec": {
   "display_name": "Python 3",
   "language": "python",
   "name": "python3"
  },
  "language_info": {
   "codemirror_mode": {
    "name": "ipython",
    "version": 3
   },
   "file_extension": ".py",
   "mimetype": "text/x-python",
   "name": "python",
   "nbconvert_exporter": "python",
   "pygments_lexer": "ipython3",
   "version": "3.7.3"
  }
 },
 "nbformat": 4,
 "nbformat_minor": 4
}
