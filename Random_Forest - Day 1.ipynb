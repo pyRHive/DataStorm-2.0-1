{
  "nbformat": 4,
  "nbformat_minor": 0,
  "metadata": {
    "kernelspec": {
      "display_name": "Python 3",
      "language": "python",
      "name": "python3"
    },
    "language_info": {
      "codemirror_mode": {
        "name": "ipython",
        "version": 3
      },
      "file_extension": ".py",
      "mimetype": "text/x-python",
      "name": "python",
      "nbconvert_exporter": "python",
      "pygments_lexer": "ipython3",
      "version": "3.8.5"
    },
    "colab": {
      "name": "Random Forest.ipynb",
      "provenance": [],
      "include_colab_link": true
    }
  },
  "cells": [
    {
      "cell_type": "markdown",
      "metadata": {
        "id": "view-in-github",
        "colab_type": "text"
      },
      "source": [
        "<a href=\"https://colab.research.google.com/github/JINENDRI/DataStorm-2.0/blob/main/Random_Forest%20-%20Day%201.ipynb\" target=\"_parent\"><img src=\"https://colab.research.google.com/assets/colab-badge.svg\" alt=\"Open In Colab\"/></a>"
      ]
    },
    {
      "cell_type": "markdown",
      "metadata": {
        "id": "xS_9E9jRNhRS"
      },
      "source": [
        "#### Loading Required libraries"
      ]
    },
    {
      "cell_type": "code",
      "metadata": {
        "id": "BO69CCBjNhRV"
      },
      "source": [
        "import pandas as pd\n",
        "import numpy as np\n",
        "import seaborn as sns\n",
        "import matplotlib.pyplot as plt\n",
        "import pickle\n",
        "\n",
        "from sklearn.preprocessing import OneHotEncoder, LabelEncoder, StandardScaler\n",
        "from sklearn.metrics import confusion_matrix, accuracy_score, classification_report, f1_score\n",
        "from sklearn.ensemble import RandomForestClassifier\n",
        "from imblearn.over_sampling import ADASYN\n",
        "\n",
        "import warnings\n",
        "warnings.filterwarnings(\"ignore\")"
      ],
      "execution_count": null,
      "outputs": []
    },
    {
      "cell_type": "markdown",
      "metadata": {
        "id": "4QKUB35sNhRW"
      },
      "source": [
        "#### Loading and viewing the datasets"
      ]
    },
    {
      "cell_type": "code",
      "metadata": {
        "id": "AEZLh-NfNhRW",
        "outputId": "26cf2afa-e18d-4162-85b9-8be8eb2d1897"
      },
      "source": [
        "# Loading train set\n",
        "hotel_data_train = pd.read_csv('Hotel-A-train.csv')\n",
        "\n",
        "# Loading validation set\n",
        "hotel_data_val = pd.read_csv('Hotel-A-validation.csv')\n",
        "\n",
        "# Loading test set\n",
        "hotel_data_test = pd.read_csv('Hotel-A-test.csv')\n",
        "\n",
        "hotel_data_train"
      ],
      "execution_count": null,
      "outputs": [
        {
          "output_type": "execute_result",
          "data": {
            "text/html": [
              "<div>\n",
              "<style scoped>\n",
              "    .dataframe tbody tr th:only-of-type {\n",
              "        vertical-align: middle;\n",
              "    }\n",
              "\n",
              "    .dataframe tbody tr th {\n",
              "        vertical-align: top;\n",
              "    }\n",
              "\n",
              "    .dataframe thead th {\n",
              "        text-align: right;\n",
              "    }\n",
              "</style>\n",
              "<table border=\"1\" class=\"dataframe\">\n",
              "  <thead>\n",
              "    <tr style=\"text-align: right;\">\n",
              "      <th></th>\n",
              "      <th>Reservation-id</th>\n",
              "      <th>Gender</th>\n",
              "      <th>Age</th>\n",
              "      <th>Ethnicity</th>\n",
              "      <th>Educational_Level</th>\n",
              "      <th>Income</th>\n",
              "      <th>Country_region</th>\n",
              "      <th>Hotel_Type</th>\n",
              "      <th>Expected_checkin</th>\n",
              "      <th>Expected_checkout</th>\n",
              "      <th>...</th>\n",
              "      <th>Meal_Type</th>\n",
              "      <th>Visted_Previously</th>\n",
              "      <th>Previous_Cancellations</th>\n",
              "      <th>Deposit_type</th>\n",
              "      <th>Booking_channel</th>\n",
              "      <th>Required_Car_Parking</th>\n",
              "      <th>Reservation_Status</th>\n",
              "      <th>Use_Promotion</th>\n",
              "      <th>Discount_Rate</th>\n",
              "      <th>Room_Rate</th>\n",
              "    </tr>\n",
              "  </thead>\n",
              "  <tbody>\n",
              "    <tr>\n",
              "      <th>0</th>\n",
              "      <td>39428300</td>\n",
              "      <td>F</td>\n",
              "      <td>40</td>\n",
              "      <td>Latino</td>\n",
              "      <td>Grad</td>\n",
              "      <td>&lt;25K</td>\n",
              "      <td>North</td>\n",
              "      <td>City Hotel</td>\n",
              "      <td>7/1/2015</td>\n",
              "      <td>7/2/2015</td>\n",
              "      <td>...</td>\n",
              "      <td>BB</td>\n",
              "      <td>No</td>\n",
              "      <td>No</td>\n",
              "      <td>No Deposit</td>\n",
              "      <td>Online</td>\n",
              "      <td>Yes</td>\n",
              "      <td>Check-In</td>\n",
              "      <td>Yes</td>\n",
              "      <td>10</td>\n",
              "      <td>218</td>\n",
              "    </tr>\n",
              "    <tr>\n",
              "      <th>1</th>\n",
              "      <td>77491756</td>\n",
              "      <td>F</td>\n",
              "      <td>49</td>\n",
              "      <td>Latino</td>\n",
              "      <td>Mid-School</td>\n",
              "      <td>50K -- 100K</td>\n",
              "      <td>East</td>\n",
              "      <td>City Hotel</td>\n",
              "      <td>7/1/2015</td>\n",
              "      <td>7/2/2015</td>\n",
              "      <td>...</td>\n",
              "      <td>BB</td>\n",
              "      <td>No</td>\n",
              "      <td>No</td>\n",
              "      <td>Refundable</td>\n",
              "      <td>Online</td>\n",
              "      <td>Yes</td>\n",
              "      <td>Check-In</td>\n",
              "      <td>No</td>\n",
              "      <td>0</td>\n",
              "      <td>185</td>\n",
              "    </tr>\n",
              "    <tr>\n",
              "      <th>2</th>\n",
              "      <td>73747291</td>\n",
              "      <td>F</td>\n",
              "      <td>42</td>\n",
              "      <td>caucasian</td>\n",
              "      <td>Grad</td>\n",
              "      <td>&lt;25K</td>\n",
              "      <td>East</td>\n",
              "      <td>City Hotel</td>\n",
              "      <td>7/2/2015</td>\n",
              "      <td>7/6/2015</td>\n",
              "      <td>...</td>\n",
              "      <td>BB</td>\n",
              "      <td>No</td>\n",
              "      <td>No</td>\n",
              "      <td>No Deposit</td>\n",
              "      <td>Online</td>\n",
              "      <td>Yes</td>\n",
              "      <td>Check-In</td>\n",
              "      <td>No</td>\n",
              "      <td>0</td>\n",
              "      <td>119</td>\n",
              "    </tr>\n",
              "    <tr>\n",
              "      <th>3</th>\n",
              "      <td>67301739</td>\n",
              "      <td>M</td>\n",
              "      <td>25</td>\n",
              "      <td>African American</td>\n",
              "      <td>College</td>\n",
              "      <td>&gt;100K</td>\n",
              "      <td>South</td>\n",
              "      <td>Airport Hotels</td>\n",
              "      <td>7/2/2015</td>\n",
              "      <td>7/3/2015</td>\n",
              "      <td>...</td>\n",
              "      <td>BB</td>\n",
              "      <td>No</td>\n",
              "      <td>No</td>\n",
              "      <td>Refundable</td>\n",
              "      <td>Agent</td>\n",
              "      <td>Yes</td>\n",
              "      <td>Check-In</td>\n",
              "      <td>Yes</td>\n",
              "      <td>5</td>\n",
              "      <td>144</td>\n",
              "    </tr>\n",
              "    <tr>\n",
              "      <th>4</th>\n",
              "      <td>77222321</td>\n",
              "      <td>F</td>\n",
              "      <td>62</td>\n",
              "      <td>Latino</td>\n",
              "      <td>High-School</td>\n",
              "      <td>25K --50K</td>\n",
              "      <td>East</td>\n",
              "      <td>Resort</td>\n",
              "      <td>7/3/2015</td>\n",
              "      <td>7/4/2015</td>\n",
              "      <td>...</td>\n",
              "      <td>BB</td>\n",
              "      <td>No</td>\n",
              "      <td>No</td>\n",
              "      <td>No Deposit</td>\n",
              "      <td>Direct</td>\n",
              "      <td>No</td>\n",
              "      <td>Check-In</td>\n",
              "      <td>Yes</td>\n",
              "      <td>10</td>\n",
              "      <td>242</td>\n",
              "    </tr>\n",
              "    <tr>\n",
              "      <th>...</th>\n",
              "      <td>...</td>\n",
              "      <td>...</td>\n",
              "      <td>...</td>\n",
              "      <td>...</td>\n",
              "      <td>...</td>\n",
              "      <td>...</td>\n",
              "      <td>...</td>\n",
              "      <td>...</td>\n",
              "      <td>...</td>\n",
              "      <td>...</td>\n",
              "      <td>...</td>\n",
              "      <td>...</td>\n",
              "      <td>...</td>\n",
              "      <td>...</td>\n",
              "      <td>...</td>\n",
              "      <td>...</td>\n",
              "      <td>...</td>\n",
              "      <td>...</td>\n",
              "      <td>...</td>\n",
              "      <td>...</td>\n",
              "      <td>...</td>\n",
              "    </tr>\n",
              "    <tr>\n",
              "      <th>27494</th>\n",
              "      <td>15645505</td>\n",
              "      <td>F</td>\n",
              "      <td>49</td>\n",
              "      <td>African American</td>\n",
              "      <td>Mid-School</td>\n",
              "      <td>&lt;25K</td>\n",
              "      <td>West</td>\n",
              "      <td>City Hotel</td>\n",
              "      <td>8/31/2016</td>\n",
              "      <td>9/1/2016</td>\n",
              "      <td>...</td>\n",
              "      <td>HB</td>\n",
              "      <td>Yes</td>\n",
              "      <td>Yes</td>\n",
              "      <td>No Deposit</td>\n",
              "      <td>Online</td>\n",
              "      <td>Yes</td>\n",
              "      <td>Check-In</td>\n",
              "      <td>Yes</td>\n",
              "      <td>10</td>\n",
              "      <td>100</td>\n",
              "    </tr>\n",
              "    <tr>\n",
              "      <th>27495</th>\n",
              "      <td>56414525</td>\n",
              "      <td>F</td>\n",
              "      <td>49</td>\n",
              "      <td>Asian American</td>\n",
              "      <td>College</td>\n",
              "      <td>25K --50K</td>\n",
              "      <td>South</td>\n",
              "      <td>Airport Hotels</td>\n",
              "      <td>8/31/2016</td>\n",
              "      <td>9/1/2016</td>\n",
              "      <td>...</td>\n",
              "      <td>BB</td>\n",
              "      <td>No</td>\n",
              "      <td>No</td>\n",
              "      <td>Refundable</td>\n",
              "      <td>Agent</td>\n",
              "      <td>Yes</td>\n",
              "      <td>No-Show</td>\n",
              "      <td>Yes</td>\n",
              "      <td>40</td>\n",
              "      <td>194</td>\n",
              "    </tr>\n",
              "    <tr>\n",
              "      <th>27496</th>\n",
              "      <td>52023375</td>\n",
              "      <td>F</td>\n",
              "      <td>49</td>\n",
              "      <td>Latino</td>\n",
              "      <td>High-School</td>\n",
              "      <td>50K -- 100K</td>\n",
              "      <td>South</td>\n",
              "      <td>Airport Hotels</td>\n",
              "      <td>9/1/2016</td>\n",
              "      <td>9/2/2016</td>\n",
              "      <td>...</td>\n",
              "      <td>HB</td>\n",
              "      <td>No</td>\n",
              "      <td>No</td>\n",
              "      <td>No Deposit</td>\n",
              "      <td>Direct</td>\n",
              "      <td>Yes</td>\n",
              "      <td>Check-In</td>\n",
              "      <td>Yes</td>\n",
              "      <td>5</td>\n",
              "      <td>202</td>\n",
              "    </tr>\n",
              "    <tr>\n",
              "      <th>27497</th>\n",
              "      <td>98041387</td>\n",
              "      <td>M</td>\n",
              "      <td>65</td>\n",
              "      <td>African American</td>\n",
              "      <td>College</td>\n",
              "      <td>25K --50K</td>\n",
              "      <td>South</td>\n",
              "      <td>Airport Hotels</td>\n",
              "      <td>8/31/2016</td>\n",
              "      <td>9/1/2016</td>\n",
              "      <td>...</td>\n",
              "      <td>FB</td>\n",
              "      <td>No</td>\n",
              "      <td>No</td>\n",
              "      <td>No Deposit</td>\n",
              "      <td>Online</td>\n",
              "      <td>No</td>\n",
              "      <td>Canceled</td>\n",
              "      <td>Yes</td>\n",
              "      <td>20</td>\n",
              "      <td>157</td>\n",
              "    </tr>\n",
              "    <tr>\n",
              "      <th>27498</th>\n",
              "      <td>55243988</td>\n",
              "      <td>F</td>\n",
              "      <td>48</td>\n",
              "      <td>caucasian</td>\n",
              "      <td>College</td>\n",
              "      <td>25K --50K</td>\n",
              "      <td>North</td>\n",
              "      <td>Resort</td>\n",
              "      <td>8/31/2016</td>\n",
              "      <td>9/1/2016</td>\n",
              "      <td>...</td>\n",
              "      <td>HB</td>\n",
              "      <td>No</td>\n",
              "      <td>No</td>\n",
              "      <td>No Deposit</td>\n",
              "      <td>Online</td>\n",
              "      <td>No</td>\n",
              "      <td>No-Show</td>\n",
              "      <td>No</td>\n",
              "      <td>0</td>\n",
              "      <td>210</td>\n",
              "    </tr>\n",
              "  </tbody>\n",
              "</table>\n",
              "<p>27499 rows × 24 columns</p>\n",
              "</div>"
            ],
            "text/plain": [
              "       Reservation-id Gender  Age         Ethnicity Educational_Level  \\\n",
              "0            39428300      F   40            Latino              Grad   \n",
              "1            77491756      F   49            Latino        Mid-School   \n",
              "2            73747291      F   42         caucasian              Grad   \n",
              "3            67301739      M   25  African American           College   \n",
              "4            77222321      F   62            Latino       High-School   \n",
              "...               ...    ...  ...               ...               ...   \n",
              "27494        15645505      F   49  African American        Mid-School   \n",
              "27495        56414525      F   49    Asian American           College   \n",
              "27496        52023375      F   49            Latino       High-School   \n",
              "27497        98041387      M   65  African American           College   \n",
              "27498        55243988      F   48         caucasian           College   \n",
              "\n",
              "            Income Country_region      Hotel_Type Expected_checkin  \\\n",
              "0             <25K          North      City Hotel         7/1/2015   \n",
              "1      50K -- 100K           East      City Hotel         7/1/2015   \n",
              "2             <25K           East      City Hotel         7/2/2015   \n",
              "3            >100K          South  Airport Hotels         7/2/2015   \n",
              "4        25K --50K           East          Resort         7/3/2015   \n",
              "...            ...            ...             ...              ...   \n",
              "27494         <25K           West      City Hotel        8/31/2016   \n",
              "27495    25K --50K          South  Airport Hotels        8/31/2016   \n",
              "27496  50K -- 100K          South  Airport Hotels         9/1/2016   \n",
              "27497    25K --50K          South  Airport Hotels        8/31/2016   \n",
              "27498    25K --50K          North          Resort        8/31/2016   \n",
              "\n",
              "      Expected_checkout  ... Meal_Type  Visted_Previously  \\\n",
              "0              7/2/2015  ...        BB                 No   \n",
              "1              7/2/2015  ...        BB                 No   \n",
              "2              7/6/2015  ...        BB                 No   \n",
              "3              7/3/2015  ...        BB                 No   \n",
              "4              7/4/2015  ...        BB                 No   \n",
              "...                 ...  ...       ...                ...   \n",
              "27494          9/1/2016  ...        HB                Yes   \n",
              "27495          9/1/2016  ...        BB                 No   \n",
              "27496          9/2/2016  ...        HB                 No   \n",
              "27497          9/1/2016  ...        FB                 No   \n",
              "27498          9/1/2016  ...        HB                 No   \n",
              "\n",
              "       Previous_Cancellations  Deposit_type Booking_channel  \\\n",
              "0                          No    No Deposit          Online   \n",
              "1                          No    Refundable          Online   \n",
              "2                          No    No Deposit          Online   \n",
              "3                          No    Refundable           Agent   \n",
              "4                          No    No Deposit          Direct   \n",
              "...                       ...           ...             ...   \n",
              "27494                     Yes    No Deposit          Online   \n",
              "27495                      No    Refundable           Agent   \n",
              "27496                      No    No Deposit          Direct   \n",
              "27497                      No    No Deposit          Online   \n",
              "27498                      No    No Deposit          Online   \n",
              "\n",
              "      Required_Car_Parking Reservation_Status Use_Promotion Discount_Rate  \\\n",
              "0                      Yes           Check-In           Yes            10   \n",
              "1                      Yes           Check-In            No             0   \n",
              "2                      Yes           Check-In            No             0   \n",
              "3                      Yes           Check-In           Yes             5   \n",
              "4                       No           Check-In           Yes            10   \n",
              "...                    ...                ...           ...           ...   \n",
              "27494                  Yes           Check-In           Yes            10   \n",
              "27495                  Yes            No-Show           Yes            40   \n",
              "27496                  Yes           Check-In           Yes             5   \n",
              "27497                   No           Canceled           Yes            20   \n",
              "27498                   No            No-Show            No             0   \n",
              "\n",
              "      Room_Rate  \n",
              "0           218  \n",
              "1           185  \n",
              "2           119  \n",
              "3           144  \n",
              "4           242  \n",
              "...         ...  \n",
              "27494       100  \n",
              "27495       194  \n",
              "27496       202  \n",
              "27497       157  \n",
              "27498       210  \n",
              "\n",
              "[27499 rows x 24 columns]"
            ]
          },
          "metadata": {
            "tags": []
          },
          "execution_count": 41
        }
      ]
    },
    {
      "cell_type": "code",
      "metadata": {
        "id": "cYRAv1M9NhRX",
        "outputId": "311b3f1d-7e71-445c-bb09-69931c6f02bf"
      },
      "source": [
        "hotel_data_train.info()"
      ],
      "execution_count": null,
      "outputs": [
        {
          "output_type": "stream",
          "text": [
            "<class 'pandas.core.frame.DataFrame'>\n",
            "RangeIndex: 27499 entries, 0 to 27498\n",
            "Data columns (total 24 columns):\n",
            " #   Column                  Non-Null Count  Dtype \n",
            "---  ------                  --------------  ----- \n",
            " 0   Reservation-id          27499 non-null  int64 \n",
            " 1   Gender                  27499 non-null  object\n",
            " 2   Age                     27499 non-null  int64 \n",
            " 3   Ethnicity               27499 non-null  object\n",
            " 4   Educational_Level       27499 non-null  object\n",
            " 5   Income                  27499 non-null  object\n",
            " 6   Country_region          27499 non-null  object\n",
            " 7   Hotel_Type              27499 non-null  object\n",
            " 8   Expected_checkin        27499 non-null  object\n",
            " 9   Expected_checkout       27499 non-null  object\n",
            " 10  Booking_date            27499 non-null  object\n",
            " 11  Adults                  27499 non-null  int64 \n",
            " 12  Children                27499 non-null  int64 \n",
            " 13  Babies                  27499 non-null  int64 \n",
            " 14  Meal_Type               27499 non-null  object\n",
            " 15  Visted_Previously       27499 non-null  object\n",
            " 16  Previous_Cancellations  27499 non-null  object\n",
            " 17  Deposit_type            27499 non-null  object\n",
            " 18  Booking_channel         27499 non-null  object\n",
            " 19  Required_Car_Parking    27499 non-null  object\n",
            " 20  Reservation_Status      27499 non-null  object\n",
            " 21  Use_Promotion           27499 non-null  object\n",
            " 22  Discount_Rate           27499 non-null  int64 \n",
            " 23  Room_Rate               27499 non-null  int64 \n",
            "dtypes: int64(7), object(17)\n",
            "memory usage: 5.0+ MB\n"
          ],
          "name": "stdout"
        }
      ]
    },
    {
      "cell_type": "markdown",
      "metadata": {
        "id": "ecWae6NnNhRY"
      },
      "source": [
        "#### Date columns convertion to datetime format"
      ]
    },
    {
      "cell_type": "code",
      "metadata": {
        "id": "hf4WSlpNNhRZ"
      },
      "source": [
        "def datetime_conversion(df):\n",
        "    columns = ['Expected_checkout', 'Expected_checkin', 'Booking_date']\n",
        "    \n",
        "    for col in columns:\n",
        "        df[col] = pd.to_datetime(df[col])"
      ],
      "execution_count": null,
      "outputs": []
    },
    {
      "cell_type": "code",
      "metadata": {
        "id": "tzxSSMGaNhRZ"
      },
      "source": [
        "# For training dataset\n",
        "datetime_conversion(hotel_data_train)\n",
        "\n",
        "# For validation dataset\n",
        "datetime_conversion(hotel_data_val)\n",
        "\n",
        "# For test dataset\n",
        "datetime_conversion(hotel_data_test)"
      ],
      "execution_count": null,
      "outputs": []
    },
    {
      "cell_type": "markdown",
      "metadata": {
        "id": "yZ73BQ7HNhRa"
      },
      "source": [
        "#### Create new variables from date data"
      ]
    },
    {
      "cell_type": "markdown",
      "metadata": {
        "id": "q9jnhjk2NhRa"
      },
      "source": [
        "01. No_days_stay - Number of days planned to stay in the hotel"
      ]
    },
    {
      "cell_type": "code",
      "metadata": {
        "id": "eeG50c97NhRb"
      },
      "source": [
        "def no_days_stay(df):\n",
        "    df['No_days_stay'] = df['Expected_checkout'] - df['Expected_checkin']\n",
        "    \n",
        "    for ind in df.index:\n",
        "        day_stay = df['No_days_stay'][ind]\n",
        "        df['No_days_stay'][ind] = pd.to_timedelta([day_stay]).astype('timedelta64[D]')[0]\n",
        "\n",
        "    df['No_days_stay'] = df['No_days_stay'].astype(int)"
      ],
      "execution_count": null,
      "outputs": []
    },
    {
      "cell_type": "code",
      "metadata": {
        "id": "mvcPrSigNhRb"
      },
      "source": [
        "# For Train dataset\n",
        "no_days_stay(hotel_data_train)\n",
        "\n",
        "# For validation dataset\n",
        "no_days_stay(hotel_data_val)\n",
        "\n",
        "# For test dataset\n",
        "no_days_stay(hotel_data_test)"
      ],
      "execution_count": null,
      "outputs": []
    },
    {
      "cell_type": "markdown",
      "metadata": {
        "id": "sDX6VAweNhRc"
      },
      "source": [
        "02. No_days_before_booked - How many days before booked "
      ]
    },
    {
      "cell_type": "code",
      "metadata": {
        "id": "eb08eY4mNhRc"
      },
      "source": [
        "def no_days_before_book(df):\n",
        "    df['No_days_before_book'] = df['Expected_checkin'] - df['Booking_date']\n",
        "    \n",
        "    for ind in df.index:\n",
        "        day_stay = df['No_days_before_book'][ind]\n",
        "        df['No_days_before_book'][ind] = pd.to_timedelta([day_stay]).astype('timedelta64[D]')[0]\n",
        "\n",
        "    df['No_days_before_book'] = df['No_days_before_book'].astype(int)"
      ],
      "execution_count": null,
      "outputs": []
    },
    {
      "cell_type": "code",
      "metadata": {
        "id": "GKPMKJTCNhRc"
      },
      "source": [
        "# For Train dataset\n",
        "no_days_before_book(hotel_data_train)\n",
        "\n",
        "# For validation dataset\n",
        "no_days_before_book(hotel_data_val)\n",
        "\n",
        "# For test dataset\n",
        "no_days_before_book(hotel_data_test)"
      ],
      "execution_count": null,
      "outputs": []
    },
    {
      "cell_type": "markdown",
      "metadata": {
        "id": "UvVYF5MoNhRd"
      },
      "source": [
        "03. No_room_book - Total number of room booked by each researvation"
      ]
    },
    {
      "cell_type": "code",
      "metadata": {
        "id": "F1iw0jIONhRe"
      },
      "source": [
        "def no_room_book(df):\n",
        "    people = df['Adults'] + df['Children']\n",
        "    rooms= people/5\n",
        "    df['Rooms_booked'] = np.ceil(rooms)"
      ],
      "execution_count": null,
      "outputs": []
    },
    {
      "cell_type": "code",
      "metadata": {
        "id": "Ch1DFT_kNhRe"
      },
      "source": [
        "# For Train dataset\n",
        "no_room_book(hotel_data_train)\n",
        "\n",
        "# For validation dataset\n",
        "no_room_book(hotel_data_val)\n",
        "\n",
        "# For test dataset\n",
        "no_room_book(hotel_data_test)"
      ],
      "execution_count": null,
      "outputs": []
    },
    {
      "cell_type": "markdown",
      "metadata": {
        "id": "clGjDHRaNhRf"
      },
      "source": [
        "04. Final_charge - Total charge for the rooms booked in each reservation"
      ]
    },
    {
      "cell_type": "code",
      "metadata": {
        "id": "zar-yk2JNhRf"
      },
      "source": [
        "def final_charge(df):\n",
        "    df['Final_charge'] = (df['Room_Rate'] - (df['Room_Rate'] * (df['Discount_Rate']/100))) * df['Rooms_booked'] * df['No_days_stay']"
      ],
      "execution_count": null,
      "outputs": []
    },
    {
      "cell_type": "code",
      "metadata": {
        "id": "kxlWnioVNhRg"
      },
      "source": [
        "# For Train dataset\n",
        "final_charge(hotel_data_train)\n",
        "\n",
        "# For validation dataset\n",
        "final_charge(hotel_data_val)\n",
        "\n",
        "# For test dataset\n",
        "final_charge(hotel_data_test)"
      ],
      "execution_count": null,
      "outputs": []
    },
    {
      "cell_type": "markdown",
      "metadata": {
        "id": "q8m2YXmFNhRg"
      },
      "source": [
        "#### Droping some variables based on domain knowledge and analysis"
      ]
    },
    {
      "cell_type": "code",
      "metadata": {
        "id": "-noziSfcNhRg"
      },
      "source": [
        "# For training dataset\n",
        "hotel_data_train = hotel_data_train.drop(['Reservation-id', 'Expected_checkout', 'Expected_checkin', 'Booking_date', 'Rooms_booked'], axis = 1)\n",
        "\n",
        "# For validation dataset\n",
        "hotel_data_val = hotel_data_val.drop(['Reservation-id', 'Expected_checkout', 'Expected_checkin', 'Booking_date', 'Rooms_booked'], axis = 1)\n",
        "\n",
        "# For test dataset\n",
        "hotel_data_test = hotel_data_test.drop(['Reservation-id', 'Expected_checkout', 'Expected_checkin', 'Booking_date', 'Rooms_booked'], axis = 1)"
      ],
      "execution_count": null,
      "outputs": []
    },
    {
      "cell_type": "code",
      "metadata": {
        "id": "EvCg9teaNhRh",
        "outputId": "5ef2c1eb-4afe-42a8-96d1-c19baeaf96b7"
      },
      "source": [
        "hotel_data_train.info()"
      ],
      "execution_count": null,
      "outputs": [
        {
          "output_type": "stream",
          "text": [
            "<class 'pandas.core.frame.DataFrame'>\n",
            "RangeIndex: 27499 entries, 0 to 27498\n",
            "Data columns (total 23 columns):\n",
            " #   Column                  Non-Null Count  Dtype  \n",
            "---  ------                  --------------  -----  \n",
            " 0   Gender                  27499 non-null  object \n",
            " 1   Age                     27499 non-null  int64  \n",
            " 2   Ethnicity               27499 non-null  object \n",
            " 3   Educational_Level       27499 non-null  object \n",
            " 4   Income                  27499 non-null  object \n",
            " 5   Country_region          27499 non-null  object \n",
            " 6   Hotel_Type              27499 non-null  object \n",
            " 7   Adults                  27499 non-null  int64  \n",
            " 8   Children                27499 non-null  int64  \n",
            " 9   Babies                  27499 non-null  int64  \n",
            " 10  Meal_Type               27499 non-null  object \n",
            " 11  Visted_Previously       27499 non-null  object \n",
            " 12  Previous_Cancellations  27499 non-null  object \n",
            " 13  Deposit_type            27499 non-null  object \n",
            " 14  Booking_channel         27499 non-null  object \n",
            " 15  Required_Car_Parking    27499 non-null  object \n",
            " 16  Reservation_Status      27499 non-null  object \n",
            " 17  Use_Promotion           27499 non-null  object \n",
            " 18  Discount_Rate           27499 non-null  int64  \n",
            " 19  Room_Rate               27499 non-null  int64  \n",
            " 20  No_days_stay            27499 non-null  int32  \n",
            " 21  No_days_before_book     27499 non-null  int32  \n",
            " 22  Final_charge            27499 non-null  float64\n",
            "dtypes: float64(1), int32(2), int64(6), object(14)\n",
            "memory usage: 4.6+ MB\n"
          ],
          "name": "stdout"
        }
      ]
    },
    {
      "cell_type": "markdown",
      "metadata": {
        "id": "YlZFltKONhRh"
      },
      "source": [
        "#### Encoding string categorical data into numeric categories"
      ]
    },
    {
      "cell_type": "code",
      "metadata": {
        "id": "NYEJXXj2NhRi"
      },
      "source": [
        "cat_columns = ['Gender', 'Ethnicity', 'Educational_Level', 'Income', 'Country_region', 'Hotel_Type', 'Meal_Type', 'Visted_Previously', 'Previous_Cancellations', 'Deposit_type', 'Booking_channel', 'Required_Car_Parking', 'Reservation_Status', 'Use_Promotion']\n",
        "\n",
        "for col in cat_columns:\n",
        "    lben = LabelEncoder()\n",
        "    \n",
        "    # For training dataset\n",
        "    hotel_data_train[col] = lben.fit_transform(hotel_data_train[col])\n",
        "    \n",
        "    # For validation dataset\n",
        "    hotel_data_val[col] = lben.fit_transform(hotel_data_val[col])"
      ],
      "execution_count": null,
      "outputs": []
    },
    {
      "cell_type": "markdown",
      "metadata": {
        "id": "40V8I7_rNhRi"
      },
      "source": [
        "#### Scaling the continuous data"
      ]
    },
    {
      "cell_type": "code",
      "metadata": {
        "id": "hcp9strvNhRj"
      },
      "source": [
        "cols_to_scl = ['Age', 'Discount_Rate', 'Room_Rate']\n",
        "scl = StandardScaler()\n",
        "\n",
        "# For train dataset\n",
        "hotel_data_train[cols_to_scl] = scl.fit_transform(hotel_data_train[cols_to_scl])\n",
        "\n",
        "# For validation dataset\n",
        "hotel_data_val[cols_to_scl] = scl.fit_transform(hotel_data_val[cols_to_scl])"
      ],
      "execution_count": null,
      "outputs": []
    },
    {
      "cell_type": "code",
      "metadata": {
        "id": "J4PCeCtWNhRj",
        "outputId": "b5feb9a2-98f8-4b77-e028-7a10b38283fb"
      },
      "source": [
        "print('scaled_means: {}'.format(scl.mean_))\n",
        "print('scaled_variances: {}'.format(scl.var_))"
      ],
      "execution_count": null,
      "outputs": [
        {
          "output_type": "stream",
          "text": [
            "scaled_means: [ 44.19679884  12.48453983 173.7424518 ]\n",
            "scaled_variances: [ 231.32722147  124.63826589 1924.76960927]\n"
          ],
          "name": "stdout"
        }
      ]
    },
    {
      "cell_type": "code",
      "metadata": {
        "id": "aicLevRPNhRj"
      },
      "source": [
        "hotel_data_train.to_csv('Hotel_train_label.csv')\n",
        "hotel_data_val.to_csv('Hotel_validation_label.csv')"
      ],
      "execution_count": null,
      "outputs": []
    },
    {
      "cell_type": "markdown",
      "metadata": {
        "id": "mOk7hXCdNhRk"
      },
      "source": [
        "#### Defining dependent (y) and independent (x) variables "
      ]
    },
    {
      "cell_type": "code",
      "metadata": {
        "id": "Vjh6uvO-NhRk"
      },
      "source": [
        "# For training dataset\n",
        "\n",
        "x_train = hotel_data_train.drop('Reservation_Status', axis = 1)\n",
        "y_train = hotel_data_train['Reservation_Status']\n",
        "\n",
        "# For validation dataset\n",
        "\n",
        "x_val = hotel_data_val.drop('Reservation_Status', axis = 1)\n",
        "y_val = hotel_data_val['Reservation_Status']"
      ],
      "execution_count": null,
      "outputs": []
    },
    {
      "cell_type": "markdown",
      "metadata": {
        "id": "UjrpaB7UNhRk"
      },
      "source": [
        "#### Balancing the dataset"
      ]
    },
    {
      "cell_type": "code",
      "metadata": {
        "id": "yk_1zvJYNhRl"
      },
      "source": [
        "ada = ADASYN(random_state = 130)"
      ],
      "execution_count": null,
      "outputs": []
    },
    {
      "cell_type": "code",
      "metadata": {
        "id": "IP5uGDlqNhRl"
      },
      "source": [
        "x_train_ada, y_train_ada = ada.fit_resample(x_train, y_train)\n",
        "x_val_ada, y_val_ada = ada.fit_resample(x_val, y_val)"
      ],
      "execution_count": null,
      "outputs": []
    },
    {
      "cell_type": "markdown",
      "metadata": {
        "id": "91ojv0TbNhRl"
      },
      "source": [
        "#### Fitting Random Forest"
      ]
    },
    {
      "cell_type": "code",
      "metadata": {
        "id": "bUiiB5X4NhRm",
        "outputId": "9cecd8b0-f6d6-4469-cff2-1621dedc6114"
      },
      "source": [
        "clf = RandomForestClassifier(n_estimators = 250, max_depth = 20, max_features = 3, min_samples_leaf = 5, min_samples_split = 8, random_state = 42)\n",
        "clf.fit(x_train_ada,y_train_ada)"
      ],
      "execution_count": null,
      "outputs": [
        {
          "output_type": "execute_result",
          "data": {
            "text/plain": [
              "RandomForestClassifier(max_depth=20, max_features=3, min_samples_leaf=5,\n",
              "                       min_samples_split=8, n_estimators=250, random_state=42)"
            ]
          },
          "metadata": {
            "tags": []
          },
          "execution_count": 152
        }
      ]
    },
    {
      "cell_type": "markdown",
      "metadata": {
        "id": "noDZ8KsNNhRm"
      },
      "source": [
        "#### Obtaining accuracy for validation test"
      ]
    },
    {
      "cell_type": "code",
      "metadata": {
        "id": "HdzcW3hGNhRn"
      },
      "source": [
        "y_pred = clf.predict(x_val_ada)"
      ],
      "execution_count": null,
      "outputs": []
    },
    {
      "cell_type": "code",
      "metadata": {
        "id": "TEvDf8yCNhRo",
        "outputId": "6775991e-25f3-447c-a402-b13a10e51d5e"
      },
      "source": [
        "print('Accuracy: {:0.4f}%.'.format(accuracy_score(y_val_ada, y_pred)))"
      ],
      "execution_count": null,
      "outputs": [
        {
          "output_type": "stream",
          "text": [
            "Accuracy: 0.4932%.\n"
          ],
          "name": "stdout"
        }
      ]
    },
    {
      "cell_type": "code",
      "metadata": {
        "id": "_XAqzejiNhRo",
        "outputId": "c6f37529-9d85-4972-e8a0-5e366dde854d"
      },
      "source": [
        "print('F1 score: {:0.4f}%.'.format(f1_score(y_val_ada, y_pred, average='micro')))"
      ],
      "execution_count": null,
      "outputs": [
        {
          "output_type": "stream",
          "text": [
            "F1 score: 0.4932%.\n"
          ],
          "name": "stdout"
        }
      ]
    },
    {
      "cell_type": "code",
      "metadata": {
        "id": "HPx_IEGvNhRp",
        "outputId": "f7aeb871-34e6-42da-ea03-653f86964b55"
      },
      "source": [
        "print(classification_report(y_val_ada, y_pred))"
      ],
      "execution_count": null,
      "outputs": [
        {
          "output_type": "stream",
          "text": [
            "              precision    recall  f1-score   support\n",
            "\n",
            "           0       0.37      0.24      0.29      1608\n",
            "           1       0.53      0.87      0.66      1610\n",
            "           2       0.53      0.38      0.44      1695\n",
            "\n",
            "    accuracy                           0.50      4913\n",
            "   macro avg       0.48      0.50      0.47      4913\n",
            "weighted avg       0.48      0.50      0.46      4913\n",
            "\n"
          ],
          "name": "stdout"
        }
      ]
    },
    {
      "cell_type": "code",
      "metadata": {
        "id": "rZavjTRWNhRp",
        "outputId": "9ad4686c-ef72-4c2b-ce66-bfbc6148fac9"
      },
      "source": [
        "confusion_matrix(y_val_ada, y_pred)"
      ],
      "execution_count": null,
      "outputs": [
        {
          "output_type": "execute_result",
          "data": {
            "text/plain": [
              "array([[ 388,  740,  480],\n",
              "       [ 115, 1402,   93],\n",
              "       [ 548,  500,  647]], dtype=int64)"
            ]
          },
          "metadata": {
            "tags": []
          },
          "execution_count": 151
        }
      ]
    },
    {
      "cell_type": "markdown",
      "metadata": {
        "id": "AEdBjVh6NhRq"
      },
      "source": [
        "#### Fitting feature importance plot"
      ]
    },
    {
      "cell_type": "code",
      "metadata": {
        "id": "RMDQESWdNhRq",
        "outputId": "277dbd9a-0481-4b87-9d1b-28fa3aed0b4a"
      },
      "source": [
        "feature_imp = pd.Series(clf.feature_importances_, index = x_train.columns).sort_values(ascending = False)\n",
        "feature_imp"
      ],
      "execution_count": null,
      "outputs": [
        {
          "output_type": "execute_result",
          "data": {
            "text/plain": [
              "No_days_before_book       0.122875\n",
              "Final_charge              0.108658\n",
              "Room_Rate                 0.104482\n",
              "Age                       0.094903\n",
              "Meal_Type                 0.074451\n",
              "Discount_Rate             0.052053\n",
              "Adults                    0.041468\n",
              "Ethnicity                 0.041115\n",
              "Income                    0.040091\n",
              "Country_region            0.039952\n",
              "Educational_Level         0.039656\n",
              "No_days_stay              0.030916\n",
              "Hotel_Type                0.030376\n",
              "Children                  0.029987\n",
              "Booking_channel           0.029895\n",
              "Babies                    0.022520\n",
              "Deposit_type              0.022502\n",
              "Gender                    0.019761\n",
              "Required_Car_Parking      0.017404\n",
              "Visted_Previously         0.016616\n",
              "Use_Promotion             0.012202\n",
              "Previous_Cancellations    0.008119\n",
              "dtype: float64"
            ]
          },
          "metadata": {
            "tags": []
          },
          "execution_count": 87
        }
      ]
    },
    {
      "cell_type": "code",
      "metadata": {
        "id": "r8LjrsQJNhRq",
        "outputId": "498074f2-6913-4e7b-b856-d3d3a0ea96c4"
      },
      "source": [
        "plt.figure(figsize = (12,8))\n",
        "sns.barplot(x = feature_imp, y = feature_imp.index, palette = 'Set2')\n",
        "plt.xlabel('Feature Importance Score', fontsize = 15)\n",
        "plt.ylabel('Features', fontsize = 15)\n",
        "plt.title(\"Visualizing Important Features\", fontsize = 20)\n",
        "plt.xticks(fontsize = 15)\n",
        "plt.yticks(fontsize = 15)\n",
        "#plt.savefig('RandomForest_featureImportance.png')\n",
        "plt.show()"
      ],
      "execution_count": null,
      "outputs": [
        {
          "output_type": "display_data",
          "data": {
            "image/png": "[encoded data removed]",
            "text/plain": [
              "<Figure size 864x576 with 1 Axes>"
            ]
          },
          "metadata": {
            "tags": [],
            "needs_background": "light"
          }
        }
      ]
    },
    {
      "cell_type": "code",
      "metadata": {
        "id": "FOGinXS4NhRr",
        "outputId": "549772e3-48f6-41bb-d79e-489253cf7514"
      },
      "source": [
        "x_rf_model1_col = x_train_ada[['No_days_before_book', 'Final_charge', 'Room_Rate', 'Age', 'Meal_Type', 'Discount_Rate', 'Adults', 'Income', 'Ethnicity', 'Country_region', 'Educational_Level', 'No_days_stay']]\n",
        "x_rf_model1_col "
      ],
      "execution_count": null,
      "outputs": [
        {
          "output_type": "execute_result",
          "data": {
            "text/html": [
              "<div>\n",
              "<style scoped>\n",
              "    .dataframe tbody tr th:only-of-type {\n",
              "        vertical-align: middle;\n",
              "    }\n",
              "\n",
              "    .dataframe tbody tr th {\n",
              "        vertical-align: top;\n",
              "    }\n",
              "\n",
              "    .dataframe thead th {\n",
              "        text-align: right;\n",
              "    }\n",
              "</style>\n",
              "<table border=\"1\" class=\"dataframe\">\n",
              "  <thead>\n",
              "    <tr style=\"text-align: right;\">\n",
              "      <th></th>\n",
              "      <th>No_days_before_book</th>\n",
              "      <th>Final_charge</th>\n",
              "      <th>Room_Rate</th>\n",
              "      <th>Age</th>\n",
              "      <th>Meal_Type</th>\n",
              "      <th>Discount_Rate</th>\n",
              "      <th>Adults</th>\n",
              "      <th>Income</th>\n",
              "      <th>Ethnicity</th>\n",
              "      <th>Country_region</th>\n",
              "      <th>Educational_Level</th>\n",
              "      <th>No_days_stay</th>\n",
              "    </tr>\n",
              "  </thead>\n",
              "  <tbody>\n",
              "    <tr>\n",
              "      <th>0</th>\n",
              "      <td>41</td>\n",
              "      <td>196.200000</td>\n",
              "      <td>0.976918</td>\n",
              "      <td>-0.259916</td>\n",
              "      <td>0</td>\n",
              "      <td>-0.222668</td>\n",
              "      <td>2</td>\n",
              "      <td>2</td>\n",
              "      <td>2</td>\n",
              "      <td>1</td>\n",
              "      <td>1</td>\n",
              "      <td>1</td>\n",
              "    </tr>\n",
              "    <tr>\n",
              "      <th>1</th>\n",
              "      <td>36</td>\n",
              "      <td>370.000000</td>\n",
              "      <td>0.224803</td>\n",
              "      <td>0.328209</td>\n",
              "      <td>0</td>\n",
              "      <td>-1.115061</td>\n",
              "      <td>3</td>\n",
              "      <td>1</td>\n",
              "      <td>2</td>\n",
              "      <td>0</td>\n",
              "      <td>3</td>\n",
              "      <td>1</td>\n",
              "    </tr>\n",
              "    <tr>\n",
              "      <th>2</th>\n",
              "      <td>3</td>\n",
              "      <td>952.000000</td>\n",
              "      <td>-1.279426</td>\n",
              "      <td>-0.129221</td>\n",
              "      <td>0</td>\n",
              "      <td>-1.115061</td>\n",
              "      <td>3</td>\n",
              "      <td>2</td>\n",
              "      <td>3</td>\n",
              "      <td>0</td>\n",
              "      <td>1</td>\n",
              "      <td>4</td>\n",
              "    </tr>\n",
              "    <tr>\n",
              "      <th>3</th>\n",
              "      <td>12</td>\n",
              "      <td>273.600000</td>\n",
              "      <td>-0.709642</td>\n",
              "      <td>-1.240124</td>\n",
              "      <td>0</td>\n",
              "      <td>-0.668864</td>\n",
              "      <td>4</td>\n",
              "      <td>3</td>\n",
              "      <td>0</td>\n",
              "      <td>2</td>\n",
              "      <td>0</td>\n",
              "      <td>1</td>\n",
              "    </tr>\n",
              "    <tr>\n",
              "      <th>4</th>\n",
              "      <td>13</td>\n",
              "      <td>217.800000</td>\n",
              "      <td>1.523910</td>\n",
              "      <td>1.177723</td>\n",
              "      <td>0</td>\n",
              "      <td>-0.222668</td>\n",
              "      <td>1</td>\n",
              "      <td>0</td>\n",
              "      <td>2</td>\n",
              "      <td>0</td>\n",
              "      <td>2</td>\n",
              "      <td>1</td>\n",
              "    </tr>\n",
              "    <tr>\n",
              "      <th>...</th>\n",
              "      <td>...</td>\n",
              "      <td>...</td>\n",
              "      <td>...</td>\n",
              "      <td>...</td>\n",
              "      <td>...</td>\n",
              "      <td>...</td>\n",
              "      <td>...</td>\n",
              "      <td>...</td>\n",
              "      <td>...</td>\n",
              "      <td>...</td>\n",
              "      <td>...</td>\n",
              "      <td>...</td>\n",
              "    </tr>\n",
              "    <tr>\n",
              "      <th>64253</th>\n",
              "      <td>62</td>\n",
              "      <td>209.769560</td>\n",
              "      <td>-0.242693</td>\n",
              "      <td>-0.527716</td>\n",
              "      <td>0</td>\n",
              "      <td>-0.086844</td>\n",
              "      <td>2</td>\n",
              "      <td>0</td>\n",
              "      <td>1</td>\n",
              "      <td>1</td>\n",
              "      <td>0</td>\n",
              "      <td>1</td>\n",
              "    </tr>\n",
              "    <tr>\n",
              "      <th>64254</th>\n",
              "      <td>64</td>\n",
              "      <td>213.017657</td>\n",
              "      <td>0.863363</td>\n",
              "      <td>0.302301</td>\n",
              "      <td>0</td>\n",
              "      <td>-1.115061</td>\n",
              "      <td>3</td>\n",
              "      <td>0</td>\n",
              "      <td>1</td>\n",
              "      <td>0</td>\n",
              "      <td>0</td>\n",
              "      <td>1</td>\n",
              "    </tr>\n",
              "    <tr>\n",
              "      <th>64255</th>\n",
              "      <td>64</td>\n",
              "      <td>210.370324</td>\n",
              "      <td>0.803027</td>\n",
              "      <td>0.267702</td>\n",
              "      <td>1</td>\n",
              "      <td>-1.115061</td>\n",
              "      <td>3</td>\n",
              "      <td>0</td>\n",
              "      <td>2</td>\n",
              "      <td>0</td>\n",
              "      <td>0</td>\n",
              "      <td>1</td>\n",
              "    </tr>\n",
              "    <tr>\n",
              "      <th>64256</th>\n",
              "      <td>66</td>\n",
              "      <td>212.631186</td>\n",
              "      <td>-1.304303</td>\n",
              "      <td>1.491010</td>\n",
              "      <td>2</td>\n",
              "      <td>-0.695766</td>\n",
              "      <td>3</td>\n",
              "      <td>0</td>\n",
              "      <td>3</td>\n",
              "      <td>1</td>\n",
              "      <td>0</td>\n",
              "      <td>1</td>\n",
              "    </tr>\n",
              "    <tr>\n",
              "      <th>64257</th>\n",
              "      <td>63</td>\n",
              "      <td>210.780475</td>\n",
              "      <td>0.812375</td>\n",
              "      <td>0.058855</td>\n",
              "      <td>2</td>\n",
              "      <td>-1.115061</td>\n",
              "      <td>3</td>\n",
              "      <td>0</td>\n",
              "      <td>3</td>\n",
              "      <td>2</td>\n",
              "      <td>1</td>\n",
              "      <td>1</td>\n",
              "    </tr>\n",
              "  </tbody>\n",
              "</table>\n",
              "<p>64258 rows × 12 columns</p>\n",
              "</div>"
            ],
            "text/plain": [
              "       No_days_before_book  Final_charge  Room_Rate       Age  Meal_Type  \\\n",
              "0                       41    196.200000   0.976918 -0.259916          0   \n",
              "1                       36    370.000000   0.224803  0.328209          0   \n",
              "2                        3    952.000000  -1.279426 -0.129221          0   \n",
              "3                       12    273.600000  -0.709642 -1.240124          0   \n",
              "4                       13    217.800000   1.523910  1.177723          0   \n",
              "...                    ...           ...        ...       ...        ...   \n",
              "64253                   62    209.769560  -0.242693 -0.527716          0   \n",
              "64254                   64    213.017657   0.863363  0.302301          0   \n",
              "64255                   64    210.370324   0.803027  0.267702          1   \n",
              "64256                   66    212.631186  -1.304303  1.491010          2   \n",
              "64257                   63    210.780475   0.812375  0.058855          2   \n",
              "\n",
              "       Discount_Rate  Adults  Income  Ethnicity  Country_region  \\\n",
              "0          -0.222668       2       2          2               1   \n",
              "1          -1.115061       3       1          2               0   \n",
              "2          -1.115061       3       2          3               0   \n",
              "3          -0.668864       4       3          0               2   \n",
              "4          -0.222668       1       0          2               0   \n",
              "...              ...     ...     ...        ...             ...   \n",
              "64253      -0.086844       2       0          1               1   \n",
              "64254      -1.115061       3       0          1               0   \n",
              "64255      -1.115061       3       0          2               0   \n",
              "64256      -0.695766       3       0          3               1   \n",
              "64257      -1.115061       3       0          3               2   \n",
              "\n",
              "       Educational_Level  No_days_stay  \n",
              "0                      1             1  \n",
              "1                      3             1  \n",
              "2                      1             4  \n",
              "3                      0             1  \n",
              "4                      2             1  \n",
              "...                  ...           ...  \n",
              "64253                  0             1  \n",
              "64254                  0             1  \n",
              "64255                  0             1  \n",
              "64256                  0             1  \n",
              "64257                  1             1  \n",
              "\n",
              "[64258 rows x 12 columns]"
            ]
          },
          "metadata": {
            "tags": []
          },
          "execution_count": 131
        }
      ]
    },
    {
      "cell_type": "code",
      "metadata": {
        "id": "3z8g9ODNNhRs",
        "outputId": "05661d8b-a0cc-4b50-8e6d-596821c36b71"
      },
      "source": [
        "rf_model1 = RandomForestClassifier(n_estimators = 250, max_depth = 30, max_features = 5, min_samples_leaf = 3, min_samples_split = 8, random_state = 42)\n",
        "rf_model1.fit(x_rf_model1_col,y_train_ada)"
      ],
      "execution_count": null,
      "outputs": [
        {
          "output_type": "execute_result",
          "data": {
            "text/plain": [
              "RandomForestClassifier(max_depth=30, max_features=5, min_samples_leaf=3,\n",
              "                       min_samples_split=8, n_estimators=250, random_state=42)"
            ]
          },
          "metadata": {
            "tags": []
          },
          "execution_count": 156
        }
      ]
    },
    {
      "cell_type": "code",
      "metadata": {
        "id": "kVgX1XrWNhRs"
      },
      "source": [
        "x_val_rf_model1 = x_val_ada[['No_days_before_book', 'Final_charge', 'Room_Rate', 'Age', 'Meal_Type', 'Discount_Rate', 'Adults', 'Income', 'Ethnicity', 'Country_region', 'Educational_Level', 'No_days_stay']]\n",
        "\n",
        "y_pred_model1 = rf_model1.predict(x_val_rf_model1)"
      ],
      "execution_count": null,
      "outputs": []
    },
    {
      "cell_type": "code",
      "metadata": {
        "id": "eUoGOjmyNhRt",
        "outputId": "1adfae6b-0417-4b72-d79c-efdea57d70d2"
      },
      "source": [
        "print('Accuracy: {}%.'.format(f1_score(y_val_ada, y_pred_model1, average = 'macro')))"
      ],
      "execution_count": null,
      "outputs": [
        {
          "output_type": "stream",
          "text": [
            "Accuracy: 0.4361577869820236%.\n"
          ],
          "name": "stdout"
        }
      ]
    },
    {
      "cell_type": "markdown",
      "metadata": {
        "id": "hjWolc8jNhRt"
      },
      "source": [
        "#### Predicting to test set"
      ]
    },
    {
      "cell_type": "markdown",
      "metadata": {
        "id": "KyGGWj_9NhRt"
      },
      "source": [
        "##### Encoding categorical varibles"
      ]
    },
    {
      "cell_type": "code",
      "metadata": {
        "id": "pMWREW4DNhRu"
      },
      "source": [
        "cat_columns = ['Gender', 'Ethnicity', 'Educational_Level', 'Income', 'Country_region', 'Hotel_Type', 'Meal_Type', 'Visted_Previously', 'Previous_Cancellations', 'Deposit_type', 'Booking_channel', 'Required_Car_Parking', 'Use_Promotion']\n",
        "\n",
        "for col in cat_columns:\n",
        "    lben = LabelEncoder()\n",
        "    \n",
        "    # For test dataset\n",
        "    hotel_data_test[col] = lben.fit_transform(hotel_data_test[col])"
      ],
      "execution_count": null,
      "outputs": []
    },
    {
      "cell_type": "markdown",
      "metadata": {
        "id": "v-8_pXa_NhRu"
      },
      "source": [
        "##### Scaling categorical variables"
      ]
    },
    {
      "cell_type": "code",
      "metadata": {
        "id": "YpOaL4nWNhRu"
      },
      "source": [
        "cols_to_scl = ['Age', 'Discount_Rate', 'Room_Rate']  \n",
        "scl = StandardScaler()\n",
        "\n",
        "# For train dataset\n",
        "hotel_data_test[cols_to_scl] = scl.fit_transform(hotel_data_test[cols_to_scl])"
      ],
      "execution_count": null,
      "outputs": []
    },
    {
      "cell_type": "code",
      "metadata": {
        "id": "PUKwiJ84NhRu",
        "outputId": "1906a8b2-260e-44a6-b6e1-949241e0bceb"
      },
      "source": [
        "print('scaled_means: {}'.format(scl.mean_))\n",
        "print('scaled_variances: {}'.format(scl.var_))"
      ],
      "execution_count": null,
      "outputs": [
        {
          "output_type": "stream",
          "text": [
            "scaled_means: [ 43.78832793  12.41662807 175.57202409]\n",
            "scaled_variances: [ 232.72453259  126.91234046 1843.56949989]\n"
          ],
          "name": "stdout"
        }
      ]
    },
    {
      "cell_type": "markdown",
      "metadata": {
        "id": "vgsGgCxLNhRv"
      },
      "source": [
        "##### Predicting for full RF model"
      ]
    },
    {
      "cell_type": "code",
      "metadata": {
        "id": "08BOmyyANhRv"
      },
      "source": [
        "hotel_data_test = hotel_data_test.drop(['pred_RF_ful', 'pred_RF_model1'], axis = 1)"
      ],
      "execution_count": null,
      "outputs": []
    },
    {
      "cell_type": "code",
      "metadata": {
        "id": "8RNttkZoNhRv"
      },
      "source": [
        "hotel_data_test['pred_RF_ful'] = clf.predict(hotel_data_test)"
      ],
      "execution_count": null,
      "outputs": []
    },
    {
      "cell_type": "markdown",
      "metadata": {
        "id": "b_oBGweHNhRw"
      },
      "source": [
        "##### Predicting for RF model1"
      ]
    },
    {
      "cell_type": "code",
      "metadata": {
        "id": "wVTWEWURNhRw"
      },
      "source": [
        "hotel_data_test_model1 = hotel_data_test[['No_days_before_book', 'Final_charge', 'Room_Rate', 'Age', 'Meal_Type', 'Discount_Rate', 'Adults', 'Income', 'Ethnicity', 'Country_region', 'Educational_Level', 'No_days_stay']]"
      ],
      "execution_count": null,
      "outputs": []
    },
    {
      "cell_type": "code",
      "metadata": {
        "id": "DtDvHoVBNhRw"
      },
      "source": [
        "hotel_data_test['pred_RF_model1'] = rf_model1.predict(hotel_data_test_model1)"
      ],
      "execution_count": null,
      "outputs": []
    },
    {
      "cell_type": "code",
      "metadata": {
        "id": "0UWDjLeVNhRx"
      },
      "source": [
        "hotel_data_test.to_csv('Hotel_test.csv')"
      ],
      "execution_count": null,
      "outputs": []
    },
    {
      "cell_type": "code",
      "metadata": {
        "id": "M_Sk3k_zNhRx",
        "outputId": "8b67ac62-6aba-4bf3-8ff1-73ddb94f64f2"
      },
      "source": [
        "hotel_data_val.Reservation_Status.value_counts()"
      ],
      "execution_count": null,
      "outputs": [
        {
          "output_type": "execute_result",
          "data": {
            "text/plain": [
              "1    1610\n",
              "0     741\n",
              "2     398\n",
              "Name: Reservation_Status, dtype: int64"
            ]
          },
          "metadata": {
            "tags": []
          },
          "execution_count": 121
        }
      ]
    },
    {
      "cell_type": "code",
      "metadata": {
        "id": "qEFuIRleNhRx"
      },
      "source": [
        ""
      ],
      "execution_count": null,
      "outputs": []
    }
  ]
}